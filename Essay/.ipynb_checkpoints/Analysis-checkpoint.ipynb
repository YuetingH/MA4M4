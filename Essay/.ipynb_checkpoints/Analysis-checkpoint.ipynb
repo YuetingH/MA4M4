{
 "cells": [
  {
   "cell_type": "code",
   "execution_count": 1,
   "id": "1fd0d498",
   "metadata": {},
   "outputs": [],
   "source": [
    "import sys\n",
    "sys.path.append('bezier-curved-edges-networkx')\n",
    "sys.path.append(\"./Modules\")\n",
    "\n",
    "import bowtie_detect as bt\n",
    "\n",
    "import warnings\n",
    "warnings.filterwarnings('ignore')"
   ]
  },
  {
   "cell_type": "code",
   "execution_count": 2,
   "id": "4848a3a1",
   "metadata": {},
   "outputs": [],
   "source": [
    "import numpy as np\n",
    "import pandas as pd\n",
    "import networkx as nx\n",
    "import itertools\n",
    "import matplotlib.pyplot as plt\n",
    "from matplotlib.collections import LineCollection\n",
    "from fa2 import ForceAtlas2\n",
    "from curved_edges import curved_edges"
   ]
  },
  {
   "cell_type": "markdown",
   "id": "1ccdc633",
   "metadata": {},
   "source": [
    "# Data Preprocessing"
   ]
  },
  {
   "cell_type": "markdown",
   "id": "1d3557c8",
   "metadata": {},
   "source": [
    "Nodes"
   ]
  },
  {
   "cell_type": "code",
   "execution_count": 3,
   "id": "a95f419a",
   "metadata": {},
   "outputs": [],
   "source": [
    "node_skiprows = list(range(1, 5))"
   ]
  },
  {
   "cell_type": "code",
   "execution_count": 4,
   "id": "944b2043",
   "metadata": {},
   "outputs": [],
   "source": [
    "# Import Node\n",
    "node_df = pd.read_excel('Data/Vaccination_data.xlsx').iloc[:1326]; \n",
    "node_df.head();"
   ]
  },
  {
   "cell_type": "code",
   "execution_count": 5,
   "id": "c64314db",
   "metadata": {},
   "outputs": [
    {
     "data": {
      "text/html": [
       "<div>\n",
       "<style scoped>\n",
       "    .dataframe tbody tr th:only-of-type {\n",
       "        vertical-align: middle;\n",
       "    }\n",
       "\n",
       "    .dataframe tbody tr th {\n",
       "        vertical-align: top;\n",
       "    }\n",
       "\n",
       "    .dataframe thead th {\n",
       "        text-align: right;\n",
       "    }\n",
       "</style>\n",
       "<table border=\"1\" class=\"dataframe\">\n",
       "  <thead>\n",
       "    <tr style=\"text-align: right;\">\n",
       "      <th></th>\n",
       "      <th>selector</th>\n",
       "      <th>polarity</th>\n",
       "      <th>x</th>\n",
       "      <th>y</th>\n",
       "      <th>banner_cdc</th>\n",
       "      <th>fan_count</th>\n",
       "      <th>degree</th>\n",
       "      <th>in_degree</th>\n",
       "    </tr>\n",
       "  </thead>\n",
       "  <tbody>\n",
       "    <tr>\n",
       "      <th>0</th>\n",
       "      <td>a_001</td>\n",
       "      <td>anti_vaccines</td>\n",
       "      <td>1567.709717</td>\n",
       "      <td>-24218.750000</td>\n",
       "      <td>False</td>\n",
       "      <td>94.0</td>\n",
       "      <td>0.0</td>\n",
       "      <td>0.0</td>\n",
       "    </tr>\n",
       "    <tr>\n",
       "      <th>1</th>\n",
       "      <td>a_00100</td>\n",
       "      <td>anti_vaccines</td>\n",
       "      <td>-1835.667725</td>\n",
       "      <td>25781.250000</td>\n",
       "      <td>NaN</td>\n",
       "      <td>0.0</td>\n",
       "      <td>0.0</td>\n",
       "      <td>0.0</td>\n",
       "    </tr>\n",
       "    <tr>\n",
       "      <th>2</th>\n",
       "      <td>a_001001</td>\n",
       "      <td>anti_vaccines</td>\n",
       "      <td>160.108688</td>\n",
       "      <td>-749.809448</td>\n",
       "      <td>False</td>\n",
       "      <td>22175.0</td>\n",
       "      <td>3.0</td>\n",
       "      <td>3.0</td>\n",
       "    </tr>\n",
       "    <tr>\n",
       "      <th>3</th>\n",
       "      <td>a_001002</td>\n",
       "      <td>anti_vaccines</td>\n",
       "      <td>-137.362717</td>\n",
       "      <td>-676.494263</td>\n",
       "      <td>True</td>\n",
       "      <td>423.0</td>\n",
       "      <td>7.0</td>\n",
       "      <td>6.0</td>\n",
       "    </tr>\n",
       "    <tr>\n",
       "      <th>4</th>\n",
       "      <td>a_001003</td>\n",
       "      <td>anti_vaccines</td>\n",
       "      <td>181.973236</td>\n",
       "      <td>-107.275665</td>\n",
       "      <td>True</td>\n",
       "      <td>289.0</td>\n",
       "      <td>8.0</td>\n",
       "      <td>8.0</td>\n",
       "    </tr>\n",
       "  </tbody>\n",
       "</table>\n",
       "</div>"
      ],
      "text/plain": [
       "   selector       polarity            x             y banner_cdc  fan_count  \\\n",
       "0     a_001  anti_vaccines  1567.709717 -24218.750000      False       94.0   \n",
       "1   a_00100  anti_vaccines -1835.667725  25781.250000        NaN        0.0   \n",
       "2  a_001001  anti_vaccines   160.108688   -749.809448      False    22175.0   \n",
       "3  a_001002  anti_vaccines  -137.362717   -676.494263       True      423.0   \n",
       "4  a_001003  anti_vaccines   181.973236   -107.275665       True      289.0   \n",
       "\n",
       "   degree  in_degree  \n",
       "0     0.0        0.0  \n",
       "1     0.0        0.0  \n",
       "2     3.0        3.0  \n",
       "3     7.0        6.0  \n",
       "4     8.0        8.0  "
      ]
     },
     "execution_count": 5,
     "metadata": {},
     "output_type": "execute_result"
    }
   ],
   "source": [
    "# Drop Extra Columns\n",
    "node_col_drop = ['Unnamed: 1', 'Unnamed: 4', 'Unnamed: 5', 'Unnamed: 7', 'Unnamed: 8', 'Unnamed: 10', 'Unnamed: 11']\n",
    "for col_drop in node_col_drop:\n",
    "    node_df = node_df.drop(col_drop, 1)\n",
    "node_df.head()"
   ]
  },
  {
   "cell_type": "markdown",
   "id": "6884e357",
   "metadata": {},
   "source": [
    "Edges"
   ]
  },
  {
   "cell_type": "code",
   "execution_count": 6,
   "id": "4c595d95",
   "metadata": {},
   "outputs": [],
   "source": [
    "# Import Edges\n",
    "edge_df = pd.read_excel('Data/Vaccination_data.xlsx', header=[2654]).iloc[:7675]; \n",
    "edge_df;"
   ]
  },
  {
   "cell_type": "code",
   "execution_count": 7,
   "id": "f420fec4",
   "metadata": {},
   "outputs": [
    {
     "data": {
      "text/html": [
       "<div>\n",
       "<style scoped>\n",
       "    .dataframe tbody tr th:only-of-type {\n",
       "        vertical-align: middle;\n",
       "    }\n",
       "\n",
       "    .dataframe tbody tr th {\n",
       "        vertical-align: top;\n",
       "    }\n",
       "\n",
       "    .dataframe thead th {\n",
       "        text-align: right;\n",
       "    }\n",
       "</style>\n",
       "<table border=\"1\" class=\"dataframe\">\n",
       "  <thead>\n",
       "    <tr style=\"text-align: right;\">\n",
       "      <th></th>\n",
       "      <th>source</th>\n",
       "      <th>target</th>\n",
       "      <th>polarity</th>\n",
       "      <th>T1</th>\n",
       "      <th>capture_date</th>\n",
       "    </tr>\n",
       "  </thead>\n",
       "  <tbody>\n",
       "    <tr>\n",
       "      <th>0</th>\n",
       "      <td>p_00667</td>\n",
       "      <td>n_00381</td>\n",
       "      <td>pro_vaccines</td>\n",
       "      <td>FALSE</td>\n",
       "      <td>2019-10-05 00:00:00</td>\n",
       "    </tr>\n",
       "    <tr>\n",
       "      <th>1</th>\n",
       "      <td>a_00502</td>\n",
       "      <td>a_001280</td>\n",
       "      <td>an#_vaccines</td>\n",
       "      <td>TRUE</td>\n",
       "      <td>2019-10-05 00:00:00</td>\n",
       "    </tr>\n",
       "    <tr>\n",
       "      <th>2</th>\n",
       "      <td>p_00914</td>\n",
       "      <td>p_001274</td>\n",
       "      <td>pro_vaccines</td>\n",
       "      <td>TRUE</td>\n",
       "      <td>2019-10-05 00:00:00</td>\n",
       "    </tr>\n",
       "    <tr>\n",
       "      <th>3</th>\n",
       "      <td>p_00914</td>\n",
       "      <td>p_001233</td>\n",
       "      <td>pro_vaccines</td>\n",
       "      <td>TRUE</td>\n",
       "      <td>2019-10-05 00:00:00</td>\n",
       "    </tr>\n",
       "    <tr>\n",
       "      <th>4</th>\n",
       "      <td>p_00914</td>\n",
       "      <td>p_001142</td>\n",
       "      <td>pro_vaccines</td>\n",
       "      <td>TRUE</td>\n",
       "      <td>2019-10-05 00:00:00</td>\n",
       "    </tr>\n",
       "  </tbody>\n",
       "</table>\n",
       "</div>"
      ],
      "text/plain": [
       "    source    target      polarity     T1         capture_date\n",
       "0  p_00667   n_00381  pro_vaccines  FALSE  2019-10-05 00:00:00\n",
       "1  a_00502  a_001280  an#_vaccines   TRUE  2019-10-05 00:00:00\n",
       "2  p_00914  p_001274  pro_vaccines   TRUE  2019-10-05 00:00:00\n",
       "3  p_00914  p_001233  pro_vaccines   TRUE  2019-10-05 00:00:00\n",
       "4  p_00914  p_001142  pro_vaccines   TRUE  2019-10-05 00:00:00"
      ]
     },
     "execution_count": 7,
     "metadata": {},
     "output_type": "execute_result"
    }
   ],
   "source": [
    "# Drop Extra Columns\n",
    "edge_col_drop = ['Unnamed: 1', 'Unnamed: 4', 'Unnamed: 6', 'Unnamed: 7', 'Unnamed: 9', 'Unnamed: 10', 'Unnamed: 11', 'Unnamed: 12', 'Unnamed: 13', 'Unnamed: 14']\n",
    "for col_drop in edge_col_drop:\n",
    "    edge_df = edge_df.drop(col_drop, 1)\n",
    "# Drop Extra Rows\n",
    "edge_df = edge_df[edge_df.source != 'source']\n",
    "edge_df.head()"
   ]
  },
  {
   "cell_type": "code",
   "execution_count": 8,
   "id": "b30d9c6d",
   "metadata": {},
   "outputs": [],
   "source": [
    "# T1: edge_df1    T2: edge_df2\n",
    "edge_df2 = edge_df\n",
    "edge_df1 = edge_df[edge_df.T1 == 'TRUE']\n",
    "edge_df_increase = edge_df[edge_df.T1 == 'FALSE']"
   ]
  },
  {
   "cell_type": "markdown",
   "id": "cefb15d3",
   "metadata": {},
   "source": [
    "Fan size"
   ]
  },
  {
   "cell_type": "code",
   "execution_count": 9,
   "id": "cad5f45d",
   "metadata": {},
   "outputs": [],
   "source": [
    "# Import Size\n",
    "size_df = pd.read_excel('Data/Vaccination_data.xlsx', header=[10330]).iloc[:1359]; \n",
    "size_df;"
   ]
  },
  {
   "cell_type": "code",
   "execution_count": 10,
   "id": "05753dd5",
   "metadata": {},
   "outputs": [
    {
     "data": {
      "text/html": [
       "<div>\n",
       "<style scoped>\n",
       "    .dataframe tbody tr th:only-of-type {\n",
       "        vertical-align: middle;\n",
       "    }\n",
       "\n",
       "    .dataframe tbody tr th {\n",
       "        vertical-align: top;\n",
       "    }\n",
       "\n",
       "    .dataframe thead th {\n",
       "        text-align: right;\n",
       "    }\n",
       "</style>\n",
       "<table border=\"1\" class=\"dataframe\">\n",
       "  <thead>\n",
       "    <tr style=\"text-align: right;\">\n",
       "      <th></th>\n",
       "      <th>selector</th>\n",
       "      <th>key</th>\n",
       "      <th>value_t1</th>\n",
       "      <th>value_t2</th>\n",
       "    </tr>\n",
       "  </thead>\n",
       "  <tbody>\n",
       "    <tr>\n",
       "      <th>0</th>\n",
       "      <td>a_00203</td>\n",
       "      <td>fan_count</td>\n",
       "      <td>260</td>\n",
       "      <td>261</td>\n",
       "    </tr>\n",
       "    <tr>\n",
       "      <th>1</th>\n",
       "      <td>a_00816</td>\n",
       "      <td>fan_count</td>\n",
       "      <td>3423</td>\n",
       "      <td>3507</td>\n",
       "    </tr>\n",
       "    <tr>\n",
       "      <th>2</th>\n",
       "      <td>p_00667</td>\n",
       "      <td>fan_count</td>\n",
       "      <td>1075</td>\n",
       "      <td>1400</td>\n",
       "    </tr>\n",
       "    <tr>\n",
       "      <th>3</th>\n",
       "      <td>p_00141</td>\n",
       "      <td>fan_count</td>\n",
       "      <td>720</td>\n",
       "      <td>734</td>\n",
       "    </tr>\n",
       "    <tr>\n",
       "      <th>4</th>\n",
       "      <td>a_00267</td>\n",
       "      <td>fan_count</td>\n",
       "      <td>116</td>\n",
       "      <td>117</td>\n",
       "    </tr>\n",
       "  </tbody>\n",
       "</table>\n",
       "</div>"
      ],
      "text/plain": [
       "  selector        key value_t1 value_t2\n",
       "0  a_00203  fan_count      260      261\n",
       "1  a_00816  fan_count     3423     3507\n",
       "2  p_00667  fan_count     1075     1400\n",
       "3  p_00141  fan_count      720      734\n",
       "4  a_00267  fan_count      116      117"
      ]
     },
     "execution_count": 10,
     "metadata": {},
     "output_type": "execute_result"
    }
   ],
   "source": [
    "# Drop Extra Columns\n",
    "size_col_drop = ['Unnamed: 1', 'Unnamed: 3', 'Unnamed: 5', 'Unnamed: 6', 'Unnamed: 8', 'Unnamed: 9', 'Unnamed: 10', 'Unnamed: 11', 'Unnamed: 12', 'Unnamed: 13', 'Unnamed: 14']\n",
    "for col_drop in size_col_drop:\n",
    "    size_df = size_df.drop(col_drop, 1)\n",
    "# Drop Extra Rows\n",
    "size_df = size_df[size_df.selector != 'selector']\n",
    "size_df.head()"
   ]
  },
  {
   "cell_type": "markdown",
   "id": "e5160ece",
   "metadata": {},
   "source": [
    "Add fan_size to node_df"
   ]
  },
  {
   "cell_type": "code",
   "execution_count": 11,
   "id": "5841dbaf",
   "metadata": {},
   "outputs": [],
   "source": [
    "fan_size_t1 = []; fan_size_t2 = []\n",
    "for selector in node_df.selector.values:\n",
    "    fan_size_t1.append(size_df[size_df.selector == selector].value_t1.values[0])\n",
    "    fan_size_t2.append(size_df[size_df.selector == selector].value_t2.values[0])"
   ]
  },
  {
   "cell_type": "code",
   "execution_count": 12,
   "id": "46cff5c9",
   "metadata": {},
   "outputs": [],
   "source": [
    "node_df.insert(8, \"fan_size_t1\", fan_size_t1)\n",
    "node_df.insert(9, \"fan_size_t2\", fan_size_t2)"
   ]
  },
  {
   "cell_type": "code",
   "execution_count": 13,
   "id": "d093c0c6",
   "metadata": {},
   "outputs": [
    {
     "data": {
      "text/html": [
       "<div>\n",
       "<style scoped>\n",
       "    .dataframe tbody tr th:only-of-type {\n",
       "        vertical-align: middle;\n",
       "    }\n",
       "\n",
       "    .dataframe tbody tr th {\n",
       "        vertical-align: top;\n",
       "    }\n",
       "\n",
       "    .dataframe thead th {\n",
       "        text-align: right;\n",
       "    }\n",
       "</style>\n",
       "<table border=\"1\" class=\"dataframe\">\n",
       "  <thead>\n",
       "    <tr style=\"text-align: right;\">\n",
       "      <th></th>\n",
       "      <th>selector</th>\n",
       "      <th>polarity</th>\n",
       "      <th>x</th>\n",
       "      <th>y</th>\n",
       "      <th>banner_cdc</th>\n",
       "      <th>fan_count</th>\n",
       "      <th>degree</th>\n",
       "      <th>in_degree</th>\n",
       "      <th>fan_size_t1</th>\n",
       "      <th>fan_size_t2</th>\n",
       "    </tr>\n",
       "  </thead>\n",
       "  <tbody>\n",
       "    <tr>\n",
       "      <th>0</th>\n",
       "      <td>a_001</td>\n",
       "      <td>anti_vaccines</td>\n",
       "      <td>1567.709717</td>\n",
       "      <td>-24218.750000</td>\n",
       "      <td>False</td>\n",
       "      <td>94.0</td>\n",
       "      <td>0.0</td>\n",
       "      <td>0.0</td>\n",
       "      <td>78</td>\n",
       "      <td>94</td>\n",
       "    </tr>\n",
       "    <tr>\n",
       "      <th>1</th>\n",
       "      <td>a_00100</td>\n",
       "      <td>anti_vaccines</td>\n",
       "      <td>-1835.667725</td>\n",
       "      <td>25781.250000</td>\n",
       "      <td>NaN</td>\n",
       "      <td>0.0</td>\n",
       "      <td>0.0</td>\n",
       "      <td>0.0</td>\n",
       "      <td>5082</td>\n",
       "      <td>0</td>\n",
       "    </tr>\n",
       "    <tr>\n",
       "      <th>2</th>\n",
       "      <td>a_001001</td>\n",
       "      <td>anti_vaccines</td>\n",
       "      <td>160.108688</td>\n",
       "      <td>-749.809448</td>\n",
       "      <td>False</td>\n",
       "      <td>22175.0</td>\n",
       "      <td>3.0</td>\n",
       "      <td>3.0</td>\n",
       "      <td>20773</td>\n",
       "      <td>22175</td>\n",
       "    </tr>\n",
       "    <tr>\n",
       "      <th>3</th>\n",
       "      <td>a_001002</td>\n",
       "      <td>anti_vaccines</td>\n",
       "      <td>-137.362717</td>\n",
       "      <td>-676.494263</td>\n",
       "      <td>True</td>\n",
       "      <td>423.0</td>\n",
       "      <td>7.0</td>\n",
       "      <td>6.0</td>\n",
       "      <td>409</td>\n",
       "      <td>423</td>\n",
       "    </tr>\n",
       "    <tr>\n",
       "      <th>4</th>\n",
       "      <td>a_001003</td>\n",
       "      <td>anti_vaccines</td>\n",
       "      <td>181.973236</td>\n",
       "      <td>-107.275665</td>\n",
       "      <td>True</td>\n",
       "      <td>289.0</td>\n",
       "      <td>8.0</td>\n",
       "      <td>8.0</td>\n",
       "      <td>294</td>\n",
       "      <td>289</td>\n",
       "    </tr>\n",
       "  </tbody>\n",
       "</table>\n",
       "</div>"
      ],
      "text/plain": [
       "   selector       polarity            x             y banner_cdc  fan_count  \\\n",
       "0     a_001  anti_vaccines  1567.709717 -24218.750000      False       94.0   \n",
       "1   a_00100  anti_vaccines -1835.667725  25781.250000        NaN        0.0   \n",
       "2  a_001001  anti_vaccines   160.108688   -749.809448      False    22175.0   \n",
       "3  a_001002  anti_vaccines  -137.362717   -676.494263       True      423.0   \n",
       "4  a_001003  anti_vaccines   181.973236   -107.275665       True      289.0   \n",
       "\n",
       "   degree  in_degree  fan_size_t1  fan_size_t2  \n",
       "0     0.0        0.0           78           94  \n",
       "1     0.0        0.0         5082            0  \n",
       "2     3.0        3.0        20773        22175  \n",
       "3     7.0        6.0          409          423  \n",
       "4     8.0        8.0          294          289  "
      ]
     },
     "execution_count": 13,
     "metadata": {},
     "output_type": "execute_result"
    }
   ],
   "source": [
    "node_df.head()"
   ]
  },
  {
   "cell_type": "markdown",
   "id": "b813518b",
   "metadata": {},
   "source": [
    "# Create Graph"
   ]
  },
  {
   "cell_type": "code",
   "execution_count": 14,
   "id": "9c036df6",
   "metadata": {},
   "outputs": [],
   "source": [
    "G1 = nx.DiGraph(); G2 = nx.DiGraph(); G_increase = nx.DiGraph()"
   ]
  },
  {
   "cell_type": "code",
   "execution_count": 15,
   "id": "748b205c",
   "metadata": {},
   "outputs": [],
   "source": [
    "# Add nodes\n",
    "node_name = node_df[[\"selector\"]].values.tolist(); node_name = sum(node_name, [])\n",
    "node_polarity = node_df[[\"polarity\"]].values.tolist(); node_polarity = sum(node_polarity, [])\n",
    "\n",
    "node_pos = node_df[[\"x\", \"y\"]].values.tolist(); node_pos = [tuple(x) for x in node_pos]\n",
    "\n",
    "fan_size_t1 = node_df[[\"fan_size_t1\"]].values.tolist(); fan_size_t1 = sum(fan_size_t1, [])\n",
    "fan_size_t2 = node_df[[\"fan_size_t2\"]].values.tolist(); fan_size_t2 = sum(fan_size_t2, [])\n",
    "\n",
    "for i in range(len(node_name)):\n",
    "    G1.add_node(node_name[i], polarity = node_polarity[i], pos = node_pos[i], fan_size_t1 = fan_size_t1[i])\n",
    "    G2.add_node(node_name[i], polarity = node_polarity[i], pos = node_pos[i], fan_size_t2 = fan_size_t2[i])\n",
    "    G_increase.add_node(node_name[i], polarity = node_polarity[i], pos = node_pos[i], fan_size_t1 = fan_size_t1[i], fan_size_t2 = fan_size_t2[i])"
   ]
  },
  {
   "cell_type": "code",
   "execution_count": 16,
   "id": "6301dd7b",
   "metadata": {},
   "outputs": [],
   "source": [
    "# Add edges\n",
    "edge1 = edge_df1[[\"source\", \"target\"]].values.tolist(); \n",
    "edge2 = edge_df2[[\"source\", \"target\"]].values.tolist();\n",
    "edge_increase = edge_df_increase[[\"source\", \"target\"]].values.tolist();\n",
    "\n",
    "for i in range(len(edge1)):\n",
    "    G1.add_edge(edge1[i][0], edge1[i][1], weight = node_df[node_df[\"selector\"] == edge1[i][1]][['fan_size_t1']].values[0][0])\n",
    "\n",
    "for i in range(len(edge2)):\n",
    "    G2.add_edge(edge2[i][0], edge2[i][1], weight = node_df[node_df[\"selector\"] == edge2[i][1]][['fan_size_t2']].values[0][0])\n",
    "    \n",
    "for i in range(len(edge_increase)):\n",
    "    G_increase.add_edge(edge_increase[i][0], edge_increase[i][1], weight = node_df[node_df[\"selector\"] == edge_increase[i][1]][['fan_size_t1']].values[0][0])"
   ]
  },
  {
   "cell_type": "code",
   "execution_count": 17,
   "id": "50fe206b",
   "metadata": {},
   "outputs": [
    {
     "data": {
      "text/plain": [
       "'DiGraph with 1326 nodes and 5163 edges'"
      ]
     },
     "execution_count": 17,
     "metadata": {},
     "output_type": "execute_result"
    }
   ],
   "source": [
    "nx.info(G1)"
   ]
  },
  {
   "cell_type": "code",
   "execution_count": 18,
   "id": "92c0fa06",
   "metadata": {},
   "outputs": [
    {
     "data": {
      "text/plain": [
       "'DiGraph with 1326 nodes and 7484 edges'"
      ]
     },
     "execution_count": 18,
     "metadata": {},
     "output_type": "execute_result"
    }
   ],
   "source": [
    "nx.info(G2)"
   ]
  },
  {
   "cell_type": "code",
   "execution_count": 19,
   "id": "69ad09e8",
   "metadata": {},
   "outputs": [
    {
     "data": {
      "text/plain": [
       "'DiGraph with 1326 nodes and 2321 edges'"
      ]
     },
     "execution_count": 19,
     "metadata": {},
     "output_type": "execute_result"
    }
   ],
   "source": [
    "nx.info(G_increase)"
   ]
  },
  {
   "cell_type": "markdown",
   "id": "6b3be7fe",
   "metadata": {},
   "source": [
    "## Graph Description"
   ]
  },
  {
   "cell_type": "markdown",
   "id": "4708494e",
   "metadata": {},
   "source": [
    "<u>Two graphs</u>: Snapshots on Feburary 2019 (T1), October 2019 (T2)\n",
    "\n",
    "- **Node (Cluster)**: a Facebook page and its members(that is, fans), with **attributes** polarity, pos, fan_size.\n",
    "\n",
    "- **Directed Edge**: A link from cluster A (source) to B (target) exists when A recommends B to all its members at the page level, with **attributes** weight = fan_size of target"
   ]
  },
  {
   "cell_type": "markdown",
   "id": "ebc5370b",
   "metadata": {},
   "source": [
    "# Extract Discursive Community"
   ]
  },
  {
   "cell_type": "code",
   "execution_count": 1418,
   "id": "39152d87",
   "metadata": {},
   "outputs": [],
   "source": [
    "node_remove = node_df[node_df[\"polarity\"] != 'anti_vaccines'].values[:,0]\n",
    "G1_anti = G1.copy(); G1_anti.remove_nodes_from(node_remove)\n",
    "G2_anti = G2.copy(); G2_anti.remove_nodes_from(node_remove)\n",
    "G_increase_anti = G_increase.copy(); G_increase_anti.remove_nodes_from(node_remove)\n",
    "\n",
    "node_remove = node_df[node_df[\"polarity\"] != 'pro_vaccines'].values[:,0]\n",
    "G1_pro = G1.copy(); G1_pro.remove_nodes_from(node_remove)\n",
    "G2_pro = G2.copy(); G2_pro.remove_nodes_from(node_remove)\n",
    "G_increase_pro = G_increase.copy(); G_increase_pro.remove_nodes_from(node_remove)\n",
    "\n",
    "node_remove = node_df[node_df[\"polarity\"] != 'neutral'].values[:,0]\n",
    "G1_neu = G1.copy(); G1_neu.remove_nodes_from(node_remove)\n",
    "G2_neu = G2.copy(); G2_neu.remove_nodes_from(node_remove)\n",
    "G_increase_neu = G_increase.copy(); G_increase_neu.remove_nodes_from(node_remove)"
   ]
  },
  {
   "cell_type": "markdown",
   "id": "90bcde06",
   "metadata": {},
   "source": [
    "G1"
   ]
  },
  {
   "cell_type": "code",
   "execution_count": 1419,
   "id": "f1fc4394",
   "metadata": {},
   "outputs": [
    {
     "name": "stdout",
     "output_type": "stream",
     "text": [
      "G1_anti: DiGraph with 317 nodes and 1015 edges\n",
      "G1_pro: DiGraph with 124 nodes and 283 edges\n",
      "G1_neu: DiGraph with 885 nodes and 1728 edges\n"
     ]
    }
   ],
   "source": [
    "print(\"G1_anti:\", nx.info(G1_anti))\n",
    "print(\"G1_pro:\", nx.info(G1_pro))\n",
    "print(\"G1_neu:\", nx.info(G1_neu))"
   ]
  },
  {
   "cell_type": "markdown",
   "id": "d2ab4bf7",
   "metadata": {},
   "source": [
    "G2"
   ]
  },
  {
   "cell_type": "code",
   "execution_count": 1420,
   "id": "55bb89a8",
   "metadata": {},
   "outputs": [
    {
     "name": "stdout",
     "output_type": "stream",
     "text": [
      "G2_anti: DiGraph with 317 nodes and 1445 edges\n",
      "G2_pro: DiGraph with 124 nodes and 398 edges\n",
      "G2_neu: DiGraph with 885 nodes and 2713 edges\n"
     ]
    }
   ],
   "source": [
    "print(\"G2_anti:\", nx.info(G2_anti))\n",
    "print(\"G2_pro:\", nx.info(G2_pro))\n",
    "print(\"G2_neu:\", nx.info(G2_neu))"
   ]
  },
  {
   "cell_type": "markdown",
   "id": "69574ccd",
   "metadata": {},
   "source": [
    "G_increase"
   ]
  },
  {
   "cell_type": "code",
   "execution_count": 1421,
   "id": "a53882df",
   "metadata": {},
   "outputs": [
    {
     "name": "stdout",
     "output_type": "stream",
     "text": [
      "G_increase_anti: DiGraph with 317 nodes and 430 edges\n",
      "G_increase_pro: DiGraph with 124 nodes and 115 edges\n",
      "G_increase_neu: DiGraph with 885 nodes and 985 edges\n"
     ]
    }
   ],
   "source": [
    "print(\"G_increase_anti:\", nx.info(G_increase_anti))\n",
    "print(\"G_increase_pro:\", nx.info(G_increase_pro))\n",
    "print(\"G_increase_neu:\", nx.info(G_increase_neu))"
   ]
  },
  {
   "cell_type": "markdown",
   "id": "c65446a2",
   "metadata": {},
   "source": [
    "## Graph Description"
   ]
  },
  {
   "cell_type": "markdown",
   "id": "a67f200f",
   "metadata": {},
   "source": [
    "Anti"
   ]
  },
  {
   "cell_type": "code",
   "execution_count": 1422,
   "id": "d2ae0c00",
   "metadata": {},
   "outputs": [
    {
     "name": "stdout",
     "output_type": "stream",
     "text": [
      "Fan Size at T1, T2 and increase proportion: 3914178 4158126 0.0623241968045398\n"
     ]
    }
   ],
   "source": [
    "T1_fansize = np.sum(np.array(list(nx.get_node_attributes(G1_anti, 'fan_size_t1').values())))\n",
    "T2_fansize = np.sum(np.array(list(nx.get_node_attributes(G2_anti, 'fan_size_t2').values())))\n",
    "increase = (T2_fansize - T1_fansize) / T1_fansize\n",
    "print(\"Fan Size at T1, T2 and increase proportion:\", T1_fansize, T2_fansize, increase)"
   ]
  },
  {
   "cell_type": "markdown",
   "id": "868c9753",
   "metadata": {},
   "source": [
    "Pro"
   ]
  },
  {
   "cell_type": "code",
   "execution_count": 1423,
   "id": "8c0aeed5",
   "metadata": {},
   "outputs": [
    {
     "name": "stdout",
     "output_type": "stream",
     "text": [
      "Fan Size at T1, T2 and increase proportion: 6808313 6934585 0.01854673837703995\n"
     ]
    }
   ],
   "source": [
    "T1_fansize = np.sum(np.array(list(nx.get_node_attributes(G1_pro, 'fan_size_t1').values())))\n",
    "T2_fansize = np.sum(np.array(list(nx.get_node_attributes(G2_pro, 'fan_size_t2').values())))\n",
    "increase = (T2_fansize - T1_fansize) / T1_fansize\n",
    "print(\"Fan Size at T1, T2 and increase proportion:\", T1_fansize, T2_fansize, increase)"
   ]
  },
  {
   "cell_type": "markdown",
   "id": "450f619e",
   "metadata": {},
   "source": [
    "neu"
   ]
  },
  {
   "cell_type": "code",
   "execution_count": 1424,
   "id": "9d65ec58",
   "metadata": {},
   "outputs": [
    {
     "name": "stdout",
     "output_type": "stream",
     "text": [
      "Fan Size at T1, T2 and increase proportion: 73433429 74100770 0.009087700371447996\n"
     ]
    }
   ],
   "source": [
    "T1_fansize = np.sum(np.array(list(nx.get_node_attributes(G1_neu, 'fan_size_t1').values())))\n",
    "T2_fansize = np.sum(np.array(list(nx.get_node_attributes(G2_neu, 'fan_size_t2').values())))\n",
    "increase = (T2_fansize - T1_fansize) / T1_fansize\n",
    "print(\"Fan Size at T1, T2 and increase proportion:\", T1_fansize, T2_fansize, increase)"
   ]
  },
  {
   "cell_type": "markdown",
   "id": "483e6a5b",
   "metadata": {},
   "source": [
    "# Check SCC"
   ]
  },
  {
   "cell_type": "code",
   "execution_count": 1425,
   "id": "076c43b9",
   "metadata": {},
   "outputs": [],
   "source": [
    "def get_SCC(G, index):\n",
    "    return G.subgraph(sorted(nx.strongly_connected_components(G), key=len, reverse=True)[index])"
   ]
  },
  {
   "cell_type": "markdown",
   "id": "270d0db7",
   "metadata": {},
   "source": [
    "G1"
   ]
  },
  {
   "cell_type": "code",
   "execution_count": 1426,
   "id": "fffd4825",
   "metadata": {},
   "outputs": [
    {
     "name": "stdout",
     "output_type": "stream",
     "text": [
      "G1: (First,Second) = (542, 21)\n"
     ]
    }
   ],
   "source": [
    "scc1 = get_SCC(G1, 0); scc2 = get_SCC(G1, 1)\n",
    "print(\"G1: (First,Second) =\", (len(scc1.nodes), len(scc2.nodes)))"
   ]
  },
  {
   "cell_type": "code",
   "execution_count": 1427,
   "id": "3d7c3db2",
   "metadata": {},
   "outputs": [
    {
     "name": "stdout",
     "output_type": "stream",
     "text": [
      "Anti: (First,Second) = (95, 2)\n"
     ]
    }
   ],
   "source": [
    "scc1 = get_SCC(G1_anti, 0); scc2 = get_SCC(G1_anti, 1)\n",
    "print(\"Anti: (First,Second) =\", (len(scc1.nodes), len(scc2.nodes)))"
   ]
  },
  {
   "cell_type": "code",
   "execution_count": 1428,
   "id": "d16aa06a",
   "metadata": {},
   "outputs": [
    {
     "name": "stdout",
     "output_type": "stream",
     "text": [
      "Pro: (First,Second) = (47, 3)\n"
     ]
    }
   ],
   "source": [
    "scc1 = get_SCC(G1_pro, 0); scc2 = get_SCC(G1_pro, 1)\n",
    "print(\"Pro: (First,Second) =\", (len(scc1.nodes), len(scc2.nodes)))"
   ]
  },
  {
   "cell_type": "code",
   "execution_count": 1429,
   "id": "99432ada",
   "metadata": {},
   "outputs": [
    {
     "name": "stdout",
     "output_type": "stream",
     "text": [
      "Neu: (First,Second) = (125, 40)\n"
     ]
    }
   ],
   "source": [
    "scc1 = get_SCC(G1_neu, 0); scc2 = get_SCC(G1_neu, 1)\n",
    "print(\"Neu: (First,Second) =\", (len(scc1.nodes), len(scc2.nodes)))"
   ]
  },
  {
   "cell_type": "markdown",
   "id": "4701400d",
   "metadata": {},
   "source": [
    "G2"
   ]
  },
  {
   "cell_type": "code",
   "execution_count": 1430,
   "id": "240ddc7f",
   "metadata": {},
   "outputs": [
    {
     "name": "stdout",
     "output_type": "stream",
     "text": [
      "G2: (First,Second) = (623, 28)\n"
     ]
    }
   ],
   "source": [
    "scc1 = get_SCC(G2, 0); scc2 = get_SCC(G2, 1)\n",
    "print(\"G2: (First,Second) =\", (len(scc1.nodes), len(scc2.nodes)))"
   ]
  },
  {
   "cell_type": "code",
   "execution_count": 1431,
   "id": "6ddc68b7",
   "metadata": {},
   "outputs": [
    {
     "name": "stdout",
     "output_type": "stream",
     "text": [
      "Anti: (First,Second) = (119, 2)\n"
     ]
    }
   ],
   "source": [
    "scc1 = get_SCC(G2_anti, 0); scc2 = get_SCC(G2_anti, 1)\n",
    "print(\"Anti: (First,Second) =\", (len(scc1.nodes), len(scc2.nodes)))"
   ]
  },
  {
   "cell_type": "code",
   "execution_count": 1432,
   "id": "8df541ea",
   "metadata": {},
   "outputs": [
    {
     "name": "stdout",
     "output_type": "stream",
     "text": [
      "Pro: (First,Second) = (50, 3)\n"
     ]
    }
   ],
   "source": [
    "scc1 = get_SCC(G2_pro, 0); scc2 = get_SCC(G2_pro, 1)\n",
    "print(\"Pro: (First,Second) =\", (len(scc1.nodes), len(scc2.nodes)))"
   ]
  },
  {
   "cell_type": "code",
   "execution_count": 1433,
   "id": "ee1ee04e",
   "metadata": {},
   "outputs": [
    {
     "name": "stdout",
     "output_type": "stream",
     "text": [
      "Neu: (First,Second) = (238, 25)\n"
     ]
    }
   ],
   "source": [
    "scc1 = get_SCC(G2_neu, 0); scc2 = get_SCC(G2_neu, 1)\n",
    "print(\"Neu: (First,Second) =\", (len(scc1.nodes), len(scc2.nodes)))"
   ]
  },
  {
   "cell_type": "markdown",
   "id": "5c394c58",
   "metadata": {},
   "source": [
    "G_increase"
   ]
  },
  {
   "cell_type": "code",
   "execution_count": 1434,
   "id": "5a267e83",
   "metadata": {},
   "outputs": [
    {
     "name": "stdout",
     "output_type": "stream",
     "text": [
      "G_increase: (First,Second) = (94, 3)\n"
     ]
    }
   ],
   "source": [
    "scc1 = get_SCC(G_increase, 0); scc2 = get_SCC(G_increase, 1)\n",
    "print(\"G_increase: (First,Second) =\", (len(scc1.nodes), len(scc2.nodes)))"
   ]
  },
  {
   "cell_type": "code",
   "execution_count": 1435,
   "id": "0f43bef3",
   "metadata": {},
   "outputs": [
    {
     "name": "stdout",
     "output_type": "stream",
     "text": [
      "G_increase: (First,Second) = (4, 1)\n"
     ]
    }
   ],
   "source": [
    "scc1 = get_SCC(G_increase_anti, 0); scc2 = get_SCC(G_increase_anti, 1)\n",
    "print(\"G_increase: (First,Second) =\", (len(scc1.nodes), len(scc2.nodes)))"
   ]
  },
  {
   "cell_type": "code",
   "execution_count": 1436,
   "id": "fa347970",
   "metadata": {},
   "outputs": [
    {
     "name": "stdout",
     "output_type": "stream",
     "text": [
      "G_increase: (First,Second) = (2, 2)\n"
     ]
    }
   ],
   "source": [
    "scc1 = get_SCC(G_increase_pro, 0); scc2 = get_SCC(G_increase_pro, 1)\n",
    "print(\"G_increase: (First,Second) =\", (len(scc1.nodes), len(scc2.nodes)))"
   ]
  },
  {
   "cell_type": "code",
   "execution_count": 1437,
   "id": "698165ce",
   "metadata": {},
   "outputs": [
    {
     "name": "stdout",
     "output_type": "stream",
     "text": [
      "G_increase: (First,Second) = (38, 16)\n"
     ]
    }
   ],
   "source": [
    "scc1 = get_SCC(G_increase_neu, 0); scc2 = get_SCC(G_increase_neu, 1)\n",
    "print(\"G_increase: (First,Second) =\", (len(scc1.nodes), len(scc2.nodes)))"
   ]
  },
  {
   "cell_type": "markdown",
   "id": "0e5e99c8",
   "metadata": {},
   "source": [
    "# Bow-tie Decomposition"
   ]
  },
  {
   "cell_type": "markdown",
   "id": "855f1ab8",
   "metadata": {},
   "source": [
    "## Background"
   ]
  },
  {
   "cell_type": "markdown",
   "id": "83df1f26",
   "metadata": {},
   "source": [
    "- Structure\n",
    "\n",
    "Bow-tie structures were introduced to describe the World Wilde Web: in the directed network in which the nodes are the websites and the edges are the hyperlinks connecting them.\n",
    "\n",
    "- Statistical Significance\n",
    "\n",
    "In face, those accounts that have high out-degrees and low out-degrees are naturally in the IN sector; those that, have high out-degrees and low in-degrees are naturally in the IN sector; those that, viceversa, have high in-degrees and low out-degrees are in the OUT sector and so on.\n",
    "\n",
    "To test whether the presence of bow-ties is merely attributable to the behavioral charactersitics of the accounts where their standpoints can be ignored, we compare the dimensions of the different sectors, as observed in the real network, with those in a randomised system in which the in- and out-degree sequences are fixed."
   ]
  },
  {
   "cell_type": "markdown",
   "id": "3e7acd4c",
   "metadata": {},
   "source": [
    "## Discursive Community: Detection & Statistical Significance"
   ]
  },
  {
   "cell_type": "code",
   "execution_count": 1438,
   "id": "bd4e77ec",
   "metadata": {},
   "outputs": [],
   "source": [
    "def get_bowtie_components(G):\n",
    "    GT = nx.reverse(G, copy=True)   # All edge directions are reversed\n",
    "    \n",
    "    strongly_con_comp = list(nx.strongly_connected_components(G))\n",
    "    strongly_con_comp = max(strongly_con_comp, key=len)\n",
    "    \n",
    "    S = strongly_con_comp   # list of SCC\n",
    "    \n",
    "    v_any = list(S)[0]   # an arbitrary node in SCC \n",
    "    DFS_G = set(nx.dfs_tree(G,v_any).nodes())   # the set of nodes that v_any can reach (depth-first-search)\n",
    "    DFS_GT = set(nx.dfs_tree(GT,v_any).nodes()) # the set of nodes that can reach v_any (depth-first-search)\n",
    "    OUT = DFS_G - S\n",
    "    IN = DFS_GT - S\n",
    "    V_rest = set(G.nodes()) - S - OUT - IN\n",
    "    \n",
    "    TUBES = set()\n",
    "    INTENDRILS = set()\n",
    "    OUTTENDRILS = set()\n",
    "    OTHER = set()\n",
    "    \n",
    "    for v in V_rest:\n",
    "        irv = len(IN & set(nx.dfs_tree(GT,v).nodes())) is not 0\n",
    "        vro = len(OUT & set(nx.dfs_tree(G,v).nodes())) is not 0\n",
    "        if irv and vro:\n",
    "            TUBES.add(v)\n",
    "        elif irv and not vro:\n",
    "            INTENDRILS.add(v)\n",
    "        elif not irv and vro:\n",
    "            OUTTENDRILS.add(v)\n",
    "        elif not irv and not vro:\n",
    "            OTHER.add(v)\n",
    "    \n",
    "    return S, IN, OUT, TUBES, INTENDRILS, OUTTENDRILS, OTHER"
   ]
  },
  {
   "cell_type": "code",
   "execution_count": 1439,
   "id": "41bb78ca",
   "metadata": {},
   "outputs": [],
   "source": [
    "def get_bowtie_components_num(S, IN, OUT, TUBES, INTENDRILS, OUTTENDRILS, OTHER):\n",
    "    num_list = np.array([len(S), len(IN), len(OUT), len(TUBES), len(INTENDRILS), len(OUTTENDRILS), len(OTHER)])\n",
    "    return num_list"
   ]
  },
  {
   "cell_type": "code",
   "execution_count": 1440,
   "id": "75a1d8f5",
   "metadata": {},
   "outputs": [],
   "source": [
    "def get_bowtie_components_percentage(S, IN, OUT, TUBES, INTENDRILS, OUTTENDRILS, OTHER):\n",
    "    num_list = np.array([len(S), len(IN), len(OUT), len(TUBES), len(INTENDRILS), len(OUTTENDRILS), len(OTHER)])\n",
    "    percentage_list = num_list/np.sum(num_list)\n",
    "    return np.round(percentage_list,3) * 100"
   ]
  },
  {
   "cell_type": "code",
   "execution_count": 1441,
   "id": "4fb83583",
   "metadata": {},
   "outputs": [],
   "source": [
    "def get_bowtie_components_rank(G):\n",
    "    S, IN, OUT, TUBES, INTENDRILS, OUTTENDRILS, OTHER = get_bowtie_components(G)\n",
    "    bt_list = np.array([len(S), len(IN), len(OUT), len(TUBES), len(INTENDRILS), len(OUTTENDRILS), len(OTHER)])\n",
    "    \n",
    "    # Directed Configuration Model\n",
    "    dcm_bt_list = []; dcm_bt_list.append(bt_list)\n",
    "    G_indegree = [d for n, d in G.in_degree()]; G_outdegree = [d for n, d in G.out_degree()]\n",
    "    for i in range(999):\n",
    "        #G_dcm = nx.directed_configuration_model(G_indegree, G_outdegree)\n",
    "        G_dcm = nx.directed_configuration_model(G_indegree, G_outdegree, seed = i)\n",
    "        G_dcm = nx.DiGraph(G_dcm) # remove parallel edges\n",
    "        G_dcm.remove_edges_from(nx.selfloop_edges(G_dcm)) # remove self-loops\n",
    "        S, IN, OUT, TUBES, INTENDRILS, OUTTENDRILS, OTHER = get_bowtie_components(G_dcm)\n",
    "        dcm_bt_list.append(np.array([len(S), len(IN), len(OUT), len(TUBES), len(INTENDRILS), len(OUTTENDRILS), len(OTHER)]))\n",
    "    dcm_bt_array = np.array(dcm_bt_list)\n",
    "    \n",
    "    # Calculate p-value\n",
    "    rank = (np.argsort(dcm_bt_array, axis=0)[0]+1)/1000 * 100\n",
    "    \n",
    "    return rank"
   ]
  },
  {
   "cell_type": "markdown",
   "id": "2eb8304c",
   "metadata": {},
   "source": [
    "### G1"
   ]
  },
  {
   "cell_type": "markdown",
   "id": "949cc20b",
   "metadata": {},
   "source": [
    "- G1_anti"
   ]
  },
  {
   "cell_type": "code",
   "execution_count": 1442,
   "id": "b371d719",
   "metadata": {},
   "outputs": [
    {
     "name": "stdout",
     "output_type": "stream",
     "text": [
      "Pecentage: S, IN, OUT, TUBES, INTENDRILS, OUTTENDRILS, OTHER =  [30.  10.7 31.5  0.   4.1  0.9 22.7]\n",
      "Rank: S, IN, OUT, TUBES, INTENDRILS, OUTTENDRILS, OTHER =  [ 45.9  59.5  68.6   0.1  33.   89.8 100. ]\n"
     ]
    }
   ],
   "source": [
    "S, IN, OUT, TUBES, INTENDRILS, OUTTENDRILS, OTHER = get_bowtie_components(G1_anti)\n",
    "G1_anti_percentage_list = get_bowtie_components_percentage(S, IN, OUT, TUBES, INTENDRILS, OUTTENDRILS, OTHER)\n",
    "print(\"Pecentage: S, IN, OUT, TUBES, INTENDRILS, OUTTENDRILS, OTHER = \", G1_anti_percentage_list)\n",
    "G1_anti_rank = get_bowtie_components_rank(G1_anti)\n",
    "print(\"Rank: S, IN, OUT, TUBES, INTENDRILS, OUTTENDRILS, OTHER = \", G1_anti_rank)"
   ]
  },
  {
   "cell_type": "markdown",
   "id": "0002e305",
   "metadata": {},
   "source": [
    "OUT > S > OTHER > IN"
   ]
  },
  {
   "cell_type": "markdown",
   "id": "cdc00fb0",
   "metadata": {},
   "source": [
    "- G1_pro"
   ]
  },
  {
   "cell_type": "code",
   "execution_count": 1443,
   "id": "3782d40b",
   "metadata": {},
   "outputs": [
    {
     "name": "stdout",
     "output_type": "stream",
     "text": [
      "Pecentage: S, IN, OUT, TUBES, INTENDRILS, OUTTENDRILS, OTHER =  [37.9  4.8 10.5  0.   0.8  0.8 45.2]\n",
      "Rank: S, IN, OUT, TUBES, INTENDRILS, OUTTENDRILS, OTHER =  [82.5  0.1  0.1  0.1 50.  24.2 50. ]\n"
     ]
    }
   ],
   "source": [
    "S, IN, OUT, TUBES, INTENDRILS, OUTTENDRILS, OTHER = get_bowtie_components(G1_pro)\n",
    "G1_pro_percentage_list = get_bowtie_components_percentage(S, IN, OUT, TUBES, INTENDRILS, OUTTENDRILS, OTHER)\n",
    "print(\"Pecentage: S, IN, OUT, TUBES, INTENDRILS, OUTTENDRILS, OTHER = \", G1_pro_percentage_list) \n",
    "G1_pro_rank = get_bowtie_components_rank(G1_pro)\n",
    "print(\"Rank: S, IN, OUT, TUBES, INTENDRILS, OUTTENDRILS, OTHER = \", G1_pro_rank)"
   ]
  },
  {
   "cell_type": "markdown",
   "id": "c50d8d25",
   "metadata": {},
   "source": [
    "OTHER > S > OUT"
   ]
  },
  {
   "cell_type": "markdown",
   "id": "6a0ea579",
   "metadata": {},
   "source": [
    "- G1_neu"
   ]
  },
  {
   "cell_type": "code",
   "execution_count": 1444,
   "id": "50db02df",
   "metadata": {},
   "outputs": [
    {
     "name": "stdout",
     "output_type": "stream",
     "text": [
      "Pecentage: S, IN, OUT, TUBES, INTENDRILS, OUTTENDRILS, OTHER =  [14.1  7.6 19.3  1.   4.1  8.7 45.2]\n",
      "Rank: S, IN, OUT, TUBES, INTENDRILS, OUTTENDRILS, OTHER =  [ 0.1  0.1 72.9 50.  76.1 71.4 63. ]\n"
     ]
    }
   ],
   "source": [
    "S, IN, OUT, TUBES, INTENDRILS, OUTTENDRILS, OTHER = get_bowtie_components(G1_neu)\n",
    "G1_neu_percentage_list = get_bowtie_components_percentage(S, IN, OUT, TUBES, INTENDRILS, OUTTENDRILS, OTHER)\n",
    "print(\"Pecentage: S, IN, OUT, TUBES, INTENDRILS, OUTTENDRILS, OTHER = \", G1_neu_percentage_list) \n",
    "G1_neu_rank = get_bowtie_components_rank(G1_neu)\n",
    "print(\"Rank: S, IN, OUT, TUBES, INTENDRILS, OUTTENDRILS, OTHER = \", G1_neu_rank)"
   ]
  },
  {
   "cell_type": "markdown",
   "id": "bd0368ea",
   "metadata": {},
   "source": [
    "OTHER > OUT > S"
   ]
  },
  {
   "cell_type": "markdown",
   "id": "08358b53",
   "metadata": {},
   "source": [
    "### G2"
   ]
  },
  {
   "cell_type": "markdown",
   "id": "58a695ea",
   "metadata": {},
   "source": [
    "- G2_anti"
   ]
  },
  {
   "cell_type": "code",
   "execution_count": 1445,
   "id": "0b871914",
   "metadata": {},
   "outputs": [
    {
     "name": "stdout",
     "output_type": "stream",
     "text": [
      "Pecentage: S, IN, OUT, TUBES, INTENDRILS, OUTTENDRILS, OTHER =  [37.5  5.7 37.5  0.   2.8  0.9 15.5]\n",
      "Rank: S, IN, OUT, TUBES, INTENDRILS, OUTTENDRILS, OTHER =  [65.8 64.9 27.9  0.1 97.3 16.3 50. ]\n"
     ]
    }
   ],
   "source": [
    "S, IN, OUT, TUBES, INTENDRILS, OUTTENDRILS, OTHER = get_bowtie_components(G2_anti)\n",
    "G2_anti_percentage_list = get_bowtie_components_percentage(S, IN, OUT, TUBES, INTENDRILS, OUTTENDRILS, OTHER)\n",
    "print(\"Pecentage: S, IN, OUT, TUBES, INTENDRILS, OUTTENDRILS, OTHER = \", G2_anti_percentage_list) \n",
    "G2_anti_rank = get_bowtie_components_rank(G2_anti)\n",
    "print(\"Rank: S, IN, OUT, TUBES, INTENDRILS, OUTTENDRILS, OTHER = \", G2_anti_rank)"
   ]
  },
  {
   "cell_type": "markdown",
   "id": "1d41a83c",
   "metadata": {},
   "source": [
    "S = OUT > OTHER"
   ]
  },
  {
   "cell_type": "markdown",
   "id": "8a7547d9",
   "metadata": {},
   "source": [
    "- G2_pro"
   ]
  },
  {
   "cell_type": "code",
   "execution_count": 1446,
   "id": "79dd1609",
   "metadata": {},
   "outputs": [
    {
     "name": "stdout",
     "output_type": "stream",
     "text": [
      "Pecentage: S, IN, OUT, TUBES, INTENDRILS, OUTTENDRILS, OTHER =  [40.3  5.6 17.7  0.   2.4  4.8 29. ]\n",
      "Rank: S, IN, OUT, TUBES, INTENDRILS, OUTTENDRILS, OTHER =  [  0.1  24.2  58.8   0.1  50.   50.  100. ]\n"
     ]
    }
   ],
   "source": [
    "S, IN, OUT, TUBES, INTENDRILS, OUTTENDRILS, OTHER = get_bowtie_components(G2_pro)\n",
    "G2_pro_percentage_list = get_bowtie_components_percentage(S, IN, OUT, TUBES, INTENDRILS, OUTTENDRILS, OTHER)\n",
    "print(\"Pecentage: S, IN, OUT, TUBES, INTENDRILS, OUTTENDRILS, OTHER = \", G2_pro_percentage_list) \n",
    "G2_pro_rank = get_bowtie_components_rank(G2_pro)\n",
    "print(\"Rank: S, IN, OUT, TUBES, INTENDRILS, OUTTENDRILS, OTHER = \", G2_pro_rank)"
   ]
  },
  {
   "cell_type": "markdown",
   "id": "eff32e7e",
   "metadata": {},
   "source": [
    "S > OTHER > OUT"
   ]
  },
  {
   "cell_type": "markdown",
   "id": "f642e0b9",
   "metadata": {},
   "source": [
    "- G2_neu"
   ]
  },
  {
   "cell_type": "code",
   "execution_count": 1447,
   "id": "c4b5d43b",
   "metadata": {},
   "outputs": [
    {
     "name": "stdout",
     "output_type": "stream",
     "text": [
      "Pecentage: S, IN, OUT, TUBES, INTENDRILS, OUTTENDRILS, OTHER =  [26.9  9.3 18.   0.8  4.5  6.2 34.4]\n",
      "Rank: S, IN, OUT, TUBES, INTENDRILS, OUTTENDRILS, OTHER =  [  0.1  66.4   0.1  50.   37.6  37.2 100. ]\n"
     ]
    }
   ],
   "source": [
    "S, IN, OUT, TUBES, INTENDRILS, OUTTENDRILS, OTHER = get_bowtie_components(G2_neu)\n",
    "G2_neu_percentage_list = get_bowtie_components_percentage(S, IN, OUT, TUBES, INTENDRILS, OUTTENDRILS, OTHER)\n",
    "print(\"Pecentage: S, IN, OUT, TUBES, INTENDRILS, OUTTENDRILS, OTHER = \", G2_neu_percentage_list) \n",
    "G2_neu_rank = get_bowtie_components_rank(G2_neu)\n",
    "print(\"Rank: S, IN, OUT, TUBES, INTENDRILS, OUTTENDRILS, OTHER = \", G2_neu_rank)"
   ]
  },
  {
   "cell_type": "markdown",
   "id": "342328b0",
   "metadata": {},
   "source": [
    "OTHER > S > OUT"
   ]
  },
  {
   "cell_type": "markdown",
   "id": "a3e7acb0",
   "metadata": {},
   "source": [
    "### Plot"
   ]
  },
  {
   "cell_type": "code",
   "execution_count": 1448,
   "id": "09b7dc93",
   "metadata": {},
   "outputs": [
    {
     "data": {
      "image/png": "[encoded data removed]",
      "text/plain": [
       "<Figure size 1440x2160 with 6 Axes>"
      ]
     },
     "metadata": {
      "needs_background": "light"
     },
     "output_type": "display_data"
    }
   ],
   "source": [
    "from matplotlib.cm import ScalarMappable\n",
    "import matplotlib.ticker as mtick\n",
    "\n",
    "\n",
    "fig = plt.figure(figsize = (20,30))\n",
    "#fig = plt.figure(figsize = (20,20), constrained_layout=True)\n",
    "#plt.suptitle(\"Discursive Community\", fontsize = '20')\n",
    "\n",
    "\n",
    "\n",
    "fig.add_subplot(3, 1, 1)\n",
    "\n",
    "# axis\n",
    "X = ['SCC','IN','OUT','TUBES', 'INTENDRILS', 'OUTTENDRILS', 'OTHER']\n",
    "X_axis = np.arange(len(X))\n",
    "plt.xticks(X_axis, X, fontsize = 15)\n",
    "plt.yticks(fontsize = 15)\n",
    "plt.xlabel(\"Bow-tie Components\", fontsize = 20)\n",
    "plt.ylabel(\"Proportion (%)\", fontsize = 20)\n",
    "plt.title(\"Anti-vaccination: \" + str(len(G1_anti.nodes)) + \" Nodes\", fontsize = 25)\n",
    "#plt.gca().yaxis.set_major_formatter(mtick.PercentFormatter(1))\n",
    "\n",
    "# colorbar\n",
    "norm = max(np.max(G1_anti_rank), np.max(G2_anti_rank))\n",
    "my_cmap = plt.cm.get_cmap('bwr')\n",
    "sm = ScalarMappable(cmap=my_cmap, norm=plt.Normalize(0,norm))\n",
    "sm.set_array([])\n",
    "           \n",
    "fill_color1 = G1_anti_rank; fill_color_normalized1 = G1_anti_rank/norm\n",
    "colors1 = my_cmap(fill_color_normalized1)\n",
    "\n",
    "fill_color2 = G2_anti_rank; fill_color_normalized2 = G2_anti_rank/norm\n",
    "colors2 = my_cmap(fill_color_normalized2)\n",
    "\n",
    "cbar = plt.colorbar(sm)\n",
    "cbar.ax.tick_params(labelsize=15)\n",
    "cbar.set_label('Rank (%)', rotation = -90, labelpad = 25, fontsize = 20)\n",
    "\n",
    "# bar\n",
    "bar_width = 0.4\n",
    "\n",
    "p = plt.bar(X_axis - bar_width/2 - 0.015, G1_anti_percentage_list, bar_width, label = 'Feb 2019', fill = False, edgecolor = \"#9E9E9E\", linewidth = 5)\n",
    "plt.bar(X_axis - bar_width/2 - 0.015, G1_anti_percentage_list, bar_width, color = colors1, edgecolor = \"#9E9E9E\", linewidth = 5)\n",
    "plt.bar_label(p, padding = 3, fontsize = 15)\n",
    "\n",
    "p = plt.bar(X_axis + bar_width/2 + 0.015, G2_anti_percentage_list, bar_width, label = 'Oct 2019', fill = False, edgecolor = \"k\", linewidth = 5)\n",
    "plt.bar(X_axis + bar_width/2 + 0.015, G2_anti_percentage_list, bar_width, color = colors2, edgecolor = \"k\", linewidth = 5)\n",
    "plt.bar_label(p, padding = 3, fontsize = 15)\n",
    "\n",
    "plt.legend(fontsize = 15, loc='upper center')\n",
    "#plt.box(False)\n",
    "\n",
    "\n",
    "\n",
    "fig.add_subplot(3, 1, 2)\n",
    "\n",
    "# axis\n",
    "X = ['SCC','IN','OUT','TUBES', 'INTENDRILS', 'OUTTENDRILS', 'OTHER']\n",
    "X_axis = np.arange(len(X))\n",
    "plt.xticks(X_axis, X, fontsize = 15)\n",
    "plt.yticks(fontsize = 15)\n",
    "plt.xlabel(\"Bow-tie Components\", fontsize = 20)\n",
    "plt.ylabel(\"Proportion (%)\", fontsize = 20)\n",
    "plt.title(\"Pro-vaccination: \" + str(len(G1_pro.nodes)) + \" Nodes\", fontsize = 25)\n",
    "#plt.gca().yaxis.set_major_formatter(mtick.PercentFormatter(1))\n",
    "\n",
    "# colorbar\n",
    "norm = max(np.max(G1_pro_rank), np.max(G2_pro_rank))\n",
    "my_cmap = plt.cm.get_cmap('bwr')\n",
    "sm = ScalarMappable(cmap=my_cmap, norm=plt.Normalize(0,norm))\n",
    "sm.set_array([])\n",
    "           \n",
    "fill_color1 = G1_pro_rank; fill_color_normalized1 = G1_pro_rank/norm\n",
    "colors1 = my_cmap(fill_color_normalized1)\n",
    "\n",
    "fill_color2 = G2_pro_rank; fill_color_normalized2 = G2_pro_rank/norm\n",
    "colors2 = my_cmap(fill_color_normalized2)\n",
    "\n",
    "cbar = plt.colorbar(sm)\n",
    "cbar.ax.tick_params(labelsize=15)\n",
    "cbar.set_label('Rank (%)', rotation = -90, labelpad = 25, fontsize = 20)\n",
    "\n",
    "\n",
    "\n",
    "# bar\n",
    "bar_width = 0.4\n",
    "\n",
    "p = plt.bar(X_axis - bar_width/2 - 0.015, G1_pro_percentage_list, bar_width, label = 'Feb 2019', fill = False, edgecolor = \"#9E9E9E\", linewidth = 5)\n",
    "plt.bar(X_axis - bar_width/2 - 0.015, G1_pro_percentage_list, bar_width, color = colors1, edgecolor = \"#9E9E9E\", linewidth = 5)\n",
    "plt.bar_label(p, padding = 3, fontsize = 15)\n",
    "\n",
    "p = plt.bar(X_axis + bar_width/2 + 0.015, G2_pro_percentage_list, bar_width, label = 'Oct 2019', fill = False, edgecolor = \"k\", linewidth = 5)\n",
    "plt.bar(X_axis + bar_width/2 + 0.015, G2_pro_percentage_list, bar_width, color = colors2, edgecolor = \"k\", linewidth = 5)\n",
    "plt.bar_label(p, padding = 3, fontsize = 15)\n",
    "\n",
    "plt.legend(fontsize = 15, loc='upper center')\n",
    "#plt.box(False)\n",
    "\n",
    "\n",
    "fig.add_subplot(3, 1, 3)\n",
    "\n",
    "# axis\n",
    "X = ['SCC','IN','OUT','TUBES', 'INTENDRILS', 'OUTTENDRILS', 'OTHER']\n",
    "X_axis = np.arange(len(X))\n",
    "plt.xticks(X_axis, X, fontsize = 15)\n",
    "plt.yticks(fontsize = 15)\n",
    "plt.xlabel(\"Bow-tie Components\", fontsize = 20)\n",
    "plt.ylabel(\"Proportion (%)\", fontsize = 20)\n",
    "plt.title(\"Neutral: \" + str(len(G1_neu.nodes)) + \" Nodes\", fontsize = 25)\n",
    "#plt.gca().yaxis.set_major_formatter(mtick.PercentFormatter(1))\n",
    "\n",
    "# colorbar\n",
    "norm = max(np.max(G1_neu_rank), np.max(G2_neu_rank))\n",
    "my_cmap = plt.cm.get_cmap('bwr')\n",
    "sm = ScalarMappable(cmap=my_cmap, norm=plt.Normalize(0,norm))\n",
    "sm.set_array([])\n",
    "           \n",
    "fill_color1 = G1_neu_rank; fill_color_normalized1 = G1_neu_rank/norm\n",
    "colors1 = my_cmap(fill_color_normalized1)\n",
    "\n",
    "fill_color2 = G2_neu_rank; fill_color_normalized2 = G2_neu_rank/norm\n",
    "colors2 = my_cmap(fill_color_normalized2)\n",
    "\n",
    "cbar = plt.colorbar(sm)\n",
    "cbar.ax.tick_params(labelsize=15)\n",
    "cbar.set_label('Rank (%)', rotation = -90, labelpad = 25, fontsize = 20)\n",
    "\n",
    "\n",
    "\n",
    "# bar\n",
    "bar_width = 0.4\n",
    "\n",
    "p = plt.bar(X_axis - bar_width/2 - 0.015, G1_neu_percentage_list, bar_width, label = 'Feb 2019', fill = False, edgecolor = \"#9E9E9E\", linewidth = 5)\n",
    "plt.bar(X_axis - bar_width/2 - 0.015, G1_neu_percentage_list, bar_width, color = colors1, edgecolor = \"#9E9E9E\", linewidth = 5)\n",
    "plt.bar_label(p, padding = 3, fontsize = 15)\n",
    "\n",
    "p = plt.bar(X_axis + bar_width/2 + 0.015, G2_neu_percentage_list, bar_width, label = 'Oct 2019', fill = False, edgecolor = \"k\", linewidth = 5)\n",
    "plt.bar(X_axis + bar_width/2 + 0.015, G2_neu_percentage_list, bar_width, color = colors2, edgecolor = \"k\", linewidth = 5)\n",
    "plt.bar_label(p, padding = 3, fontsize = 15)\n",
    "\n",
    "plt.legend(fontsize = 15, loc='upper center')\n",
    "#plt.box(False)\n",
    "\n",
    "\n",
    "# show\n",
    "plt.show()\n",
    "fig.savefig('Graphs/Discursive.png', dpi=fig.dpi)"
   ]
  },
  {
   "cell_type": "markdown",
   "id": "ebe38225",
   "metadata": {},
   "source": [
    "## Entire Graph: Recursive Detection"
   ]
  },
  {
   "cell_type": "markdown",
   "id": "901474a7",
   "metadata": {},
   "source": [
    "Recursive detection relies on Info Map community detection.\n",
    "\n",
    "Info Map: https://www.pnas.org/doi/10.1073/pnas.0706851105"
   ]
  },
  {
   "cell_type": "code",
   "execution_count": 1449,
   "id": "b1f098d2",
   "metadata": {},
   "outputs": [],
   "source": [
    "import networkx.algorithms.community as nx_comm\n",
    "from cdlib import algorithms"
   ]
  },
  {
   "cell_type": "code",
   "execution_count": 1450,
   "id": "661fe8fc",
   "metadata": {},
   "outputs": [],
   "source": [
    "anti_set = set(node_df[node_df[\"polarity\"] != 'anti_vaccines'].values[:,0])\n",
    "pro_set = set(node_df[node_df[\"polarity\"] != 'pro_vaccines'].values[:,0])\n",
    "neu_set = set(node_df[node_df[\"polarity\"] != 'neutral'].values[:,0])"
   ]
  },
  {
   "cell_type": "code",
   "execution_count": 1451,
   "id": "e42aecef",
   "metadata": {},
   "outputs": [],
   "source": [
    "def get_component_norm_proportion(G):\n",
    "    S, IN, OUT, TUBES, INTENDRILS, OUTTENDRILS, OTHER = get_bowtie_components(G)\n",
    "    component_list = [S, IN, OUT, TUBES, INTENDRILS, OUTTENDRILS, OTHER]\n",
    "    proportion = []\n",
    "    \n",
    "    G_anti_nodes = set(G.nodes) - set(anti_set)\n",
    "    G_pro_nodes = set(G.nodes) - set(pro_set)\n",
    "    G_neu_nodes = set(G.nodes) - set(neu_set)\n",
    "    #print(len(G_anti_nodes), len(G_pro_nodes), len(G_neu_nodes))\n",
    "    \n",
    "    for component in component_list:\n",
    "        anti_proportion = len(set(component) - set(anti_set)) / len(G_anti_nodes)\n",
    "        pro_proportion = len(set(component) - set(pro_set)) / len(G_pro_nodes)\n",
    "        neu_proportion = len(set(component) - set(neu_set)) / len(G_neu_nodes)\n",
    "        proportion.append([anti_proportion, pro_proportion, neu_proportion])\n",
    "    return list(np.around(np.array(proportion),3) * 100)"
   ]
  },
  {
   "cell_type": "code",
   "execution_count": 1452,
   "id": "6e20ef89",
   "metadata": {},
   "outputs": [],
   "source": [
    "def DCM_label(G, G_dcm):\n",
    "    G_nodes = list(G.nodes)\n",
    "    G_dcm_nodes = list(G_dcm.nodes)\n",
    "    mapping = {G_dcm_nodes[i]: G_nodes[i] for i in range(len(G_nodes))}\n",
    "    return nx.relabel_nodes(G_dcm, mapping, copy=True)"
   ]
  },
  {
   "cell_type": "code",
   "execution_count": 1453,
   "id": "4c228b7f",
   "metadata": {},
   "outputs": [],
   "source": [
    "def get_bowtie_components_rank2(G):\n",
    "    proportion = get_component_norm_proportion(G)\n",
    "    \n",
    "    # Directed Configuration Model\n",
    "    dcm_bt_list = []; dcm_bt_list.append(proportion)\n",
    "    G_indegree = [d for n, d in G.in_degree()]; G_outdegree = [d for n, d in G.out_degree()]\n",
    "    for i in range(999):\n",
    "        #G_dcm = nx.directed_configuration_model(G_indegree, G_outdegree)\n",
    "        G_dcm = nx.directed_configuration_model(G_indegree, G_outdegree, seed = i)\n",
    "        G_dcm.remove_edges_from(nx.selfloop_edges(G_dcm)) # Remove parallel edges\n",
    "        G_dcm = DCM_label(G, G_dcm)\n",
    "        \n",
    "        proportion = get_component_norm_proportion(G_dcm)\n",
    "        dcm_bt_list.append(proportion)\n",
    "        \n",
    "    #dcm_bt_array = np.array(dcm_bt_list, ndmin = 3)\n",
    "    \n",
    "    # Calculate p-value\n",
    "    rank = (np.argsort(dcm_bt_array, axis=0)[0]+1)/1000 * 100\n",
    "    \n",
    "    return dcm_bt_list, rank"
   ]
  },
  {
   "cell_type": "markdown",
   "id": "fd0f7810",
   "metadata": {},
   "source": [
    "### Entire Graph"
   ]
  },
  {
   "cell_type": "markdown",
   "id": "7d950282",
   "metadata": {},
   "source": [
    "#### G1"
   ]
  },
  {
   "cell_type": "code",
   "execution_count": 1487,
   "id": "06073765",
   "metadata": {},
   "outputs": [
    {
     "name": "stdout",
     "output_type": "stream",
     "text": [
      "Pecentage: S, IN, OUT, TUBES, INTENDRILS, OUTTENDRILS, OTHER =  [40.9  6.  36.   0.2  1.1  4.2 11.7]\n"
     ]
    }
   ],
   "source": [
    "S, IN, OUT, TUBES, INTENDRILS, OUTTENDRILS, OTHER = get_bowtie_components(G1)\n",
    "G1_percentage_list = get_bowtie_components_percentage(S, IN, OUT, TUBES, INTENDRILS, OUTTENDRILS, OTHER)\n",
    "print(\"Pecentage: S, IN, OUT, TUBES, INTENDRILS, OUTTENDRILS, OTHER = \", G1_percentage_list) \n",
    "#G1_rank = get_bowtie_components_rank(G1)\n",
    "#print(\"Rank: S, IN, OUT, TUBES, INTENDRILS, OUTTENDRILS, OTHER = \", G1_rank)"
   ]
  },
  {
   "cell_type": "markdown",
   "id": "dca5ec60",
   "metadata": {},
   "source": [
    "S > OUT > OTHER"
   ]
  },
  {
   "cell_type": "code",
   "execution_count": 1488,
   "id": "4af6948c",
   "metadata": {},
   "outputs": [
    {
     "name": "stdout",
     "output_type": "stream",
     "text": [
      "Anti, Pro, Neutral:\n"
     ]
    },
    {
     "data": {
      "text/plain": [
       "[array([42.3, 49.2, 39.2]),\n",
       " array([5. , 4. , 6.6]),\n",
       " array([34.4, 21.8, 38.5]),\n",
       " array([0.3, 0. , 0.2]),\n",
       " array([2.2, 0. , 0.8]),\n",
       " array([0.6, 6.5, 5.2]),\n",
       " array([15.1, 18.5,  9.5])]"
      ]
     },
     "execution_count": 1488,
     "metadata": {},
     "output_type": "execute_result"
    }
   ],
   "source": [
    "print(\"Anti, Pro, Neutral:\")\n",
    "G1_component_norm_proportion = get_component_norm_proportion(G1)\n",
    "G1_component_norm_proportion"
   ]
  },
  {
   "cell_type": "code",
   "execution_count": 1489,
   "id": "5fdda489",
   "metadata": {},
   "outputs": [],
   "source": [
    "G1_component_norm_proportion = np.array(G1_component_norm_proportion, ndmin = 2)\n",
    "G1_anti_percentage_list = G1_component_norm_proportion[:,0]\n",
    "G1_pro_percentage_list = G1_component_norm_proportion[:,1]\n",
    "G1_neu_percentage_list = G1_component_norm_proportion[:,2]"
   ]
  },
  {
   "cell_type": "markdown",
   "id": "8985244b",
   "metadata": {},
   "source": [
    "Rank"
   ]
  },
  {
   "cell_type": "code",
   "execution_count": 1490,
   "id": "301a718b",
   "metadata": {},
   "outputs": [],
   "source": [
    "dcm_bt_array, rank = get_bowtie_components_rank2(G1)"
   ]
  },
  {
   "cell_type": "code",
   "execution_count": 1491,
   "id": "e0895233",
   "metadata": {},
   "outputs": [
    {
     "data": {
      "text/plain": [
       "array([[71. ,  0.1, 63.5],\n",
       "       [81.5, 99.7, 14.7],\n",
       "       [72.9, 40.8, 49.9],\n",
       "       [ 0.1,  0.1, 83.4],\n",
       "       [65.2,  0.1, 67.2],\n",
       "       [ 0.1, 35. , 80.7],\n",
       "       [ 0.1,  0.1, 50. ]])"
      ]
     },
     "execution_count": 1491,
     "metadata": {},
     "output_type": "execute_result"
    }
   ],
   "source": [
    "rank"
   ]
  },
  {
   "cell_type": "code",
   "execution_count": 1492,
   "id": "2a96bdc9",
   "metadata": {},
   "outputs": [],
   "source": [
    "G1_anti_rank = rank[:,0]\n",
    "G1_pro_rank = rank[:,1]\n",
    "G1_neu_rank = rank[:,2]"
   ]
  },
  {
   "cell_type": "markdown",
   "id": "9ba19887",
   "metadata": {},
   "source": [
    "#### G2"
   ]
  },
  {
   "cell_type": "code",
   "execution_count": 1493,
   "id": "95263865",
   "metadata": {},
   "outputs": [
    {
     "name": "stdout",
     "output_type": "stream",
     "text": [
      "Pecentage: S, IN, OUT, TUBES, INTENDRILS, OUTTENDRILS, OTHER =  [47.   4.1 35.5  0.   0.9  4.3  8.2]\n"
     ]
    }
   ],
   "source": [
    "S, IN, OUT, TUBES, INTENDRILS, OUTTENDRILS, OTHER = get_bowtie_components(G2)\n",
    "G2_percentage_list = get_bowtie_components_percentage(S, IN, OUT, TUBES, INTENDRILS, OUTTENDRILS, OTHER)\n",
    "print(\"Pecentage: S, IN, OUT, TUBES, INTENDRILS, OUTTENDRILS, OTHER = \", G2_percentage_list) \n",
    "#G2_rank = get_bowtie_components_rank(G2)\n",
    "#print(\"Rank: S, IN, OUT, TUBES, INTENDRILS, OUTTENDRILS, OTHER = \", G2_rank)"
   ]
  },
  {
   "cell_type": "markdown",
   "id": "5d43e9a8",
   "metadata": {},
   "source": [
    "S > OUT"
   ]
  },
  {
   "cell_type": "code",
   "execution_count": 1494,
   "id": "1a5e43a1",
   "metadata": {},
   "outputs": [
    {
     "name": "stdout",
     "output_type": "stream",
     "text": [
      "Anti, Pro, Neutral:\n"
     ]
    },
    {
     "data": {
      "text/plain": [
       "[array([47., 54., 46.]),\n",
       " array([3.2, 4. , 4.4]),\n",
       " array([37.2, 21.8, 36.8]),\n",
       " array([0., 0., 0.]),\n",
       " array([1.3, 0.8, 0.8]),\n",
       " array([0.6, 4. , 5.6]),\n",
       " array([10.7, 15.3,  6.3])]"
      ]
     },
     "execution_count": 1494,
     "metadata": {},
     "output_type": "execute_result"
    }
   ],
   "source": [
    "print(\"Anti, Pro, Neutral:\")\n",
    "G2_component_norm_proportion = get_component_norm_proportion(G2)\n",
    "G2_component_norm_proportion"
   ]
  },
  {
   "cell_type": "code",
   "execution_count": 1495,
   "id": "479f99fa",
   "metadata": {},
   "outputs": [],
   "source": [
    "G2_component_norm_proportion = np.array(G2_component_norm_proportion, ndmin = 2)\n",
    "G2_anti_percentage_list = G2_component_norm_proportion[:,0]\n",
    "G2_pro_percentage_list = G2_component_norm_proportion[:,1]\n",
    "G2_neu_percentage_list = G2_component_norm_proportion[:,2]"
   ]
  },
  {
   "cell_type": "markdown",
   "id": "d7eb1ff2",
   "metadata": {},
   "source": [
    "Rank"
   ]
  },
  {
   "cell_type": "code",
   "execution_count": 1496,
   "id": "cc6bba9c",
   "metadata": {},
   "outputs": [],
   "source": [
    "dcm_bt_array, rank = get_bowtie_components_rank2(G2)"
   ]
  },
  {
   "cell_type": "code",
   "execution_count": 1497,
   "id": "ea6b3fb9",
   "metadata": {},
   "outputs": [
    {
     "data": {
      "text/plain": [
       "array([[33.7, 42.6,  0.1],\n",
       "       [ 2.8,  0.1,  0.1],\n",
       "       [70. , 23.6, 25.8],\n",
       "       [50. ,  0.1, 44.2],\n",
       "       [97.3,  0.1,  2.7],\n",
       "       [15.8, 40.9,  5.4],\n",
       "       [82.4, 50. , 48.1]])"
      ]
     },
     "execution_count": 1497,
     "metadata": {},
     "output_type": "execute_result"
    }
   ],
   "source": [
    "rank"
   ]
  },
  {
   "cell_type": "code",
   "execution_count": 1498,
   "id": "fbe3a55a",
   "metadata": {},
   "outputs": [],
   "source": [
    "G2_anti_rank = rank[:,0]\n",
    "G2_pro_rank = rank[:,1]\n",
    "G2_neu_rank = rank[:,2]"
   ]
  },
  {
   "cell_type": "markdown",
   "id": "991c62ec",
   "metadata": {},
   "source": [
    "#### Plot"
   ]
  },
  {
   "cell_type": "code",
   "execution_count": 1499,
   "id": "3b748cd3",
   "metadata": {},
   "outputs": [
    {
     "data": {
      "image/png": "[encoded data removed]",
      "text/plain": [
       "<Figure size 1440x2160 with 6 Axes>"
      ]
     },
     "metadata": {
      "needs_background": "light"
     },
     "output_type": "display_data"
    }
   ],
   "source": [
    "fig = plt.figure(figsize = (20,30))\n",
    "#fig = plt.figure(figsize = (20,20), constrained_layout=True)\n",
    "#plt.suptitle(\"Discursive Community\", fontsize = '20')\n",
    "\n",
    "fig.add_subplot(3, 1, 1)\n",
    "\n",
    "# axis\n",
    "X = ['SCC','IN','OUT','TUBES', 'INTENDRILS', 'OUTTENDRILS', 'OTHER']\n",
    "X_axis = np.arange(len(X))\n",
    "plt.xticks(X_axis, X, fontsize = 15)\n",
    "plt.yticks(fontsize = 15)\n",
    "plt.xlabel(\"Bow-tie Components\", fontsize = 20)\n",
    "plt.ylabel(\"Proportion (%)\", fontsize = 20)\n",
    "plt.title(\"Anti-vaccination: \" + str(len(G1_anti.nodes)) + \" Nodes\", fontsize = 25)\n",
    "#plt.gca().yaxis.set_major_formatter(mtick.PercentFormatter(1))\n",
    "\n",
    "# colorbar\n",
    "norm = max(np.max(G1_anti_rank), np.max(G2_anti_rank))\n",
    "my_cmap = plt.cm.get_cmap('bwr')\n",
    "sm = ScalarMappable(cmap=my_cmap, norm=plt.Normalize(0,norm))\n",
    "sm.set_array([])\n",
    "           \n",
    "fill_color1 = G1_anti_rank; fill_color_normalized1 = G1_anti_rank/norm\n",
    "colors1 = my_cmap(fill_color_normalized1)\n",
    "\n",
    "fill_color2 = G2_anti_rank; fill_color_normalized2 = G2_anti_rank/norm\n",
    "colors2 = my_cmap(fill_color_normalized2)\n",
    "\n",
    "cbar = plt.colorbar(sm)\n",
    "cbar.ax.tick_params(labelsize=15)\n",
    "cbar.set_label('Rank (%)', rotation = -90, labelpad = 25, fontsize = 20)\n",
    "\n",
    "# bar\n",
    "bar_width = 0.4\n",
    "\n",
    "p = plt.bar(X_axis - bar_width/2 - 0.015, G1_anti_percentage_list, bar_width, label = 'Feb 2019', fill = False, edgecolor = \"#9E9E9E\", linewidth = 5)\n",
    "plt.bar(X_axis - bar_width/2 - 0.015, G1_anti_percentage_list, bar_width, color = colors1, edgecolor = \"#9E9E9E\", linewidth = 5)\n",
    "plt.bar_label(p, padding = 3, fontsize = 15)\n",
    "\n",
    "p = plt.bar(X_axis + bar_width/2 + 0.015, G2_anti_percentage_list, bar_width, label = 'Oct 2019', fill = False, edgecolor = \"k\", linewidth = 5)\n",
    "plt.bar(X_axis + bar_width/2 + 0.015, G2_anti_percentage_list, bar_width, color = colors2, edgecolor = \"k\", linewidth = 5)\n",
    "plt.bar_label(p, padding = 3, fontsize = 15)\n",
    "\n",
    "plt.legend(fontsize = 15, loc='upper center')\n",
    "#plt.box(False)\n",
    "\n",
    "\n",
    "\n",
    "fig.add_subplot(3, 1, 2)\n",
    "\n",
    "# axis\n",
    "X = ['SCC','IN','OUT','TUBES', 'INTENDRILS', 'OUTTENDRILS', 'OTHER']\n",
    "X_axis = np.arange(len(X))\n",
    "plt.xticks(X_axis, X, fontsize = 15)\n",
    "plt.yticks(fontsize = 15)\n",
    "plt.xlabel(\"Bow-tie Components\", fontsize = 20)\n",
    "plt.ylabel(\"Proportion (%)\", fontsize = 20)\n",
    "plt.title(\"Pro-vaccination: \" + str(len(G1_pro.nodes)) + \" Nodes\", fontsize = 25)\n",
    "#plt.gca().yaxis.set_major_formatter(mtick.PercentFormatter(1))\n",
    "\n",
    "# colorbar\n",
    "norm = max(np.max(G1_pro_rank), np.max(G2_pro_rank))\n",
    "my_cmap = plt.cm.get_cmap('bwr')\n",
    "sm = ScalarMappable(cmap=my_cmap, norm=plt.Normalize(0,norm))\n",
    "sm.set_array([])\n",
    "           \n",
    "fill_color1 = G1_pro_rank; fill_color_normalized1 = G1_pro_rank/norm\n",
    "colors1 = my_cmap(fill_color_normalized1)\n",
    "\n",
    "fill_color2 = G2_pro_rank; fill_color_normalized2 = G2_pro_rank/norm\n",
    "colors2 = my_cmap(fill_color_normalized2)\n",
    "\n",
    "cbar = plt.colorbar(sm)\n",
    "cbar.ax.tick_params(labelsize=15)\n",
    "cbar.set_label('Rank (%)', rotation = -90, labelpad = 25, fontsize = 20)\n",
    "\n",
    "\n",
    "\n",
    "# bar\n",
    "bar_width = 0.4\n",
    "\n",
    "p = plt.bar(X_axis - bar_width/2 - 0.015, G1_pro_percentage_list, bar_width, label = 'Feb 2019', fill = False, edgecolor = \"#9E9E9E\", linewidth = 5)\n",
    "plt.bar(X_axis - bar_width/2 - 0.015, G1_pro_percentage_list, bar_width, color = colors1, edgecolor = \"#9E9E9E\", linewidth = 5)\n",
    "plt.bar_label(p, padding = 3, fontsize = 15)\n",
    "\n",
    "p = plt.bar(X_axis + bar_width/2 + 0.015, G2_pro_percentage_list, bar_width, label = 'Oct 2019', fill = False, edgecolor = \"k\", linewidth = 5)\n",
    "plt.bar(X_axis + bar_width/2 + 0.015, G2_pro_percentage_list, bar_width, color = colors2, edgecolor = \"k\", linewidth = 5)\n",
    "plt.bar_label(p, padding = 3, fontsize = 15)\n",
    "\n",
    "plt.legend(fontsize = 15, loc='upper center')\n",
    "#plt.box(False)\n",
    "\n",
    "\n",
    "fig.add_subplot(3, 1, 3)\n",
    "\n",
    "# axis\n",
    "X = ['SCC','IN','OUT','TUBES', 'INTENDRILS', 'OUTTENDRILS', 'OTHER']\n",
    "X_axis = np.arange(len(X))\n",
    "plt.xticks(X_axis, X, fontsize = 15)\n",
    "plt.yticks(fontsize = 15)\n",
    "plt.xlabel(\"Bow-tie Components\", fontsize = 20)\n",
    "plt.ylabel(\"Proportion (%)\", fontsize = 20)\n",
    "plt.title(\"Neutral: \" + str(len(G1_neu.nodes)) + \" Nodes\", fontsize = 25)\n",
    "#plt.gca().yaxis.set_major_formatter(mtick.PercentFormatter(1))\n",
    "\n",
    "# colorbar\n",
    "norm = max(np.max(G1_neu_rank), np.max(G2_neu_rank))\n",
    "my_cmap = plt.cm.get_cmap('bwr')\n",
    "sm = ScalarMappable(cmap=my_cmap, norm=plt.Normalize(0,norm))\n",
    "sm.set_array([])\n",
    "           \n",
    "fill_color1 = G1_neu_rank; fill_color_normalized1 = G1_neu_rank/norm\n",
    "colors1 = my_cmap(fill_color_normalized1)\n",
    "\n",
    "fill_color2 = G2_neu_rank; fill_color_normalized2 = G2_neu_rank/norm\n",
    "colors2 = my_cmap(fill_color_normalized2)\n",
    "\n",
    "cbar = plt.colorbar(sm)\n",
    "cbar.ax.tick_params(labelsize=15)\n",
    "cbar.set_label('Rank (%)', rotation = -90, labelpad = 25, fontsize = 20)\n",
    "\n",
    "\n",
    "\n",
    "# bar\n",
    "bar_width = 0.4\n",
    "\n",
    "p = plt.bar(X_axis - bar_width/2 - 0.015, G1_neu_percentage_list, bar_width, label = 'Feb 2019', fill = False, edgecolor = \"#9E9E9E\", linewidth = 5)\n",
    "plt.bar(X_axis - bar_width/2 - 0.015, G1_neu_percentage_list, bar_width, color = colors1, edgecolor = \"#9E9E9E\", linewidth = 5)\n",
    "plt.bar_label(p, padding = 3, fontsize = 15)\n",
    "\n",
    "p = plt.bar(X_axis + bar_width/2 + 0.015, G2_neu_percentage_list, bar_width, label = 'Oct 2019', fill = False, edgecolor = \"k\", linewidth = 5)\n",
    "plt.bar(X_axis + bar_width/2 + 0.015, G2_neu_percentage_list, bar_width, color = colors2, edgecolor = \"k\", linewidth = 5)\n",
    "plt.bar_label(p, padding = 3, fontsize = 15)\n",
    "\n",
    "plt.legend(fontsize = 15, loc='upper center')\n",
    "#plt.box(False)\n",
    "\n",
    "\n",
    "# show\n",
    "plt.show()\n",
    "fig.savefig('Graphs/Entire_Graph.png', dpi=fig.dpi)"
   ]
  },
  {
   "cell_type": "markdown",
   "id": "c98cb3f7",
   "metadata": {},
   "source": [
    "### Community based on G1"
   ]
  },
  {
   "cell_type": "markdown",
   "id": "0c6cd393",
   "metadata": {},
   "source": [
    "Info Map: https://www.pnas.org/doi/10.1073/pnas.0706851105"
   ]
  },
  {
   "cell_type": "code",
   "execution_count": 1500,
   "id": "c2777eea",
   "metadata": {},
   "outputs": [],
   "source": [
    "import networkx.algorithms.community as nx_comm\n",
    "from cdlib import algorithms"
   ]
  },
  {
   "cell_type": "code",
   "execution_count": 1501,
   "id": "ba479154",
   "metadata": {},
   "outputs": [
    {
     "name": "stdout",
     "output_type": "stream",
     "text": [
      "The number of community:  103\n"
     ]
    }
   ],
   "source": [
    "# Perform Algorithm\n",
    "coms = algorithms.infomap(G1); instance_variables = vars(coms)\n",
    "G1_comm_result = instance_variables['communities']\n",
    "print(\"The number of community: \", len(G1_comm_result))"
   ]
  },
  {
   "cell_type": "code",
   "execution_count": 1502,
   "id": "5b82f0e5",
   "metadata": {},
   "outputs": [
    {
     "name": "stdout",
     "output_type": "stream",
     "text": [
      "Largest ten community size:  [534, 263, 148, 110, 52, 46, 32, 28, 5, 3]\n"
     ]
    }
   ],
   "source": [
    "G1_large_ten_comm = [len(G1_comm_result[i]) for i in range(10)]\n",
    "print(\"Largest ten community size: \", G1_large_ten_comm)"
   ]
  },
  {
   "cell_type": "markdown",
   "id": "970d36ca",
   "metadata": {},
   "source": [
    "#### G1_comm1"
   ]
  },
  {
   "cell_type": "markdown",
   "id": "47869edb",
   "metadata": {},
   "source": [
    "##### T1"
   ]
  },
  {
   "cell_type": "code",
   "execution_count": 1503,
   "id": "f7914894",
   "metadata": {},
   "outputs": [],
   "source": [
    "node_remove = list(set(node_df[\"selector\"].values) - set(G1_comm_result[0]))\n",
    "G1_comm1 = G1.copy(); G1_comm1.remove_nodes_from(node_remove)"
   ]
  },
  {
   "cell_type": "code",
   "execution_count": 1504,
   "id": "decf6a76",
   "metadata": {},
   "outputs": [
    {
     "data": {
      "text/plain": [
       "'DiGraph with 534 nodes and 1984 edges'"
      ]
     },
     "execution_count": 1504,
     "metadata": {},
     "output_type": "execute_result"
    }
   ],
   "source": [
    "nx.info(G1_comm1)"
   ]
  },
  {
   "cell_type": "code",
   "execution_count": 1505,
   "id": "5a19ddb0",
   "metadata": {},
   "outputs": [
    {
     "name": "stdout",
     "output_type": "stream",
     "text": [
      "Nodes of Pro-, Anti-, Neu-:  240 5 289\n"
     ]
    }
   ],
   "source": [
    "G1_comm1_anti_nodes = set(G1_comm1.nodes) - set(anti_set)\n",
    "G1_comm1_pro_nodes = set(G1_comm1.nodes) - set(pro_set)\n",
    "G1_comm1_neu_nodes = set(G1_comm1.nodes) - set(neu_set)\n",
    "print(\"Nodes of Pro-, Anti-, Neu-: \", len(G1_comm1_anti_nodes), len(G1_comm1_pro_nodes), len(G1_comm1_neu_nodes))"
   ]
  },
  {
   "cell_type": "code",
   "execution_count": 1506,
   "id": "84a63682",
   "metadata": {},
   "outputs": [
    {
     "name": "stdout",
     "output_type": "stream",
     "text": [
      "Pecentage: S, IN, OUT, TUBES, INTENDRILS, OUTTENDRILS, OTHER =  [33.5  9.4 50.   1.3  2.4  2.8  0.6]\n"
     ]
    }
   ],
   "source": [
    "S, IN, OUT, TUBES, INTENDRILS, OUTTENDRILS, OTHER = get_bowtie_components(G1_comm1)\n",
    "G1_comm1_percentage_list = get_bowtie_components_percentage(S, IN, OUT, TUBES, INTENDRILS, OUTTENDRILS, OTHER)\n",
    "print(\"Pecentage: S, IN, OUT, TUBES, INTENDRILS, OUTTENDRILS, OTHER = \", G1_comm1_percentage_list) \n",
    "#G1_comm1_rank = get_bowtie_components_rank(G1_comm1)\n",
    "#print(\"Rank: S, IN, OUT, TUBES, INTENDRILS, OUTTENDRILS, OTHER = \", G1_comm1_rank)"
   ]
  },
  {
   "cell_type": "code",
   "execution_count": 1507,
   "id": "1e3a9853",
   "metadata": {},
   "outputs": [
    {
     "name": "stdout",
     "output_type": "stream",
     "text": [
      "Anti, Pro, Neutral:\n"
     ]
    },
    {
     "data": {
      "text/plain": [
       "[array([48.3,  0. , 21.8]),\n",
       " array([ 7.9, 40. , 10. ]),\n",
       " array([40. , 20. , 58.8]),\n",
       " array([0.4, 0. , 2.1]),\n",
       " array([3.3, 0. , 1.7]),\n",
       " array([ 0. , 40. ,  4.5]),\n",
       " array([0., 0., 1.])]"
      ]
     },
     "execution_count": 1507,
     "metadata": {},
     "output_type": "execute_result"
    }
   ],
   "source": [
    "print(\"Anti, Pro, Neutral:\")\n",
    "G1_component_norm_proportion = get_component_norm_proportion(G1_comm1)\n",
    "G1_component_norm_proportion"
   ]
  },
  {
   "cell_type": "code",
   "execution_count": 1508,
   "id": "6ee6ab6c",
   "metadata": {},
   "outputs": [],
   "source": [
    "G1_component_norm_proportion = np.array(G1_component_norm_proportion, ndmin = 2)\n",
    "G1_anti_percentage_list = G1_component_norm_proportion[:,0]\n",
    "G1_pro_percentage_list = G1_component_norm_proportion[:,1]\n",
    "G1_neu_percentage_list = G1_component_norm_proportion[:,2]"
   ]
  },
  {
   "cell_type": "markdown",
   "id": "57878416",
   "metadata": {},
   "source": [
    "Rank"
   ]
  },
  {
   "cell_type": "code",
   "execution_count": 1509,
   "id": "1146b27e",
   "metadata": {},
   "outputs": [
    {
     "data": {
      "text/plain": [
       "array([[ 68.9,   0.1,   0.1],\n",
       "       [ 51.6,  78.3,   0.1],\n",
       "       [ 68.7,  48. ,  20.7],\n",
       "       [  0.1,   0.1,   0.1],\n",
       "       [ 52.6,  50. ,  70.4],\n",
       "       [ 55.9,  75.7,  33.8],\n",
       "       [100. ,  50. ,  96.4]])"
      ]
     },
     "execution_count": 1509,
     "metadata": {},
     "output_type": "execute_result"
    }
   ],
   "source": [
    "dcm_bt_array, rank = get_bowtie_components_rank2(G1_comm1)\n",
    "rank"
   ]
  },
  {
   "cell_type": "code",
   "execution_count": 1510,
   "id": "8a9c263e",
   "metadata": {},
   "outputs": [],
   "source": [
    "G1_anti_rank = rank[:,0]\n",
    "G1_pro_rank = rank[:,1]\n",
    "G1_neu_rank = rank[:,2]"
   ]
  },
  {
   "cell_type": "markdown",
   "id": "c6eb95c4",
   "metadata": {},
   "source": [
    "##### T2"
   ]
  },
  {
   "cell_type": "code",
   "execution_count": 1511,
   "id": "dc7e1513",
   "metadata": {},
   "outputs": [],
   "source": [
    "G1_comm1_T2 = G2.copy(); G1_comm1_T2.remove_nodes_from(node_remove)"
   ]
  },
  {
   "cell_type": "code",
   "execution_count": 1512,
   "id": "11ef2c23",
   "metadata": {},
   "outputs": [
    {
     "data": {
      "text/plain": [
       "'DiGraph with 534 nodes and 2454 edges'"
      ]
     },
     "execution_count": 1512,
     "metadata": {},
     "output_type": "execute_result"
    }
   ],
   "source": [
    "nx.info(G1_comm1_T2)"
   ]
  },
  {
   "cell_type": "code",
   "execution_count": 1513,
   "id": "db0e8d7c",
   "metadata": {},
   "outputs": [
    {
     "name": "stdout",
     "output_type": "stream",
     "text": [
      "Pecentage: S, IN, OUT, TUBES, INTENDRILS, OUTTENDRILS, OTHER =  [37.8  6.7 50.9  0.7  1.1  2.1  0.6]\n"
     ]
    }
   ],
   "source": [
    "S, IN, OUT, TUBES, INTENDRILS, OUTTENDRILS, OTHER = get_bowtie_components(G1_comm1_T2)\n",
    "G1_comm1_percentage_list = get_bowtie_components_percentage(S, IN, OUT, TUBES, INTENDRILS, OUTTENDRILS, OTHER)\n",
    "print(\"Pecentage: S, IN, OUT, TUBES, INTENDRILS, OUTTENDRILS, OTHER = \", G1_comm1_percentage_list) \n",
    "#G1_comm1_rank = get_bowtie_components_rank(G1_comm1)\n",
    "#print(\"Rank: S, IN, OUT, TUBES, INTENDRILS, OUTTENDRILS, OTHER = \", G1_comm1_rank)"
   ]
  },
  {
   "cell_type": "code",
   "execution_count": 1514,
   "id": "5890fd28",
   "metadata": {},
   "outputs": [
    {
     "name": "stdout",
     "output_type": "stream",
     "text": [
      "Anti, Pro, Neutral:\n"
     ]
    },
    {
     "data": {
      "text/plain": [
       "[array([53.3,  0. , 25.6]),\n",
       " array([ 4.2, 40. ,  8.3]),\n",
       " array([40.8, 20. , 59.9]),\n",
       " array([0. , 0. , 1.4]),\n",
       " array([1.7, 0. , 0.7]),\n",
       " array([ 0. , 40. ,  3.1]),\n",
       " array([0., 0., 1.])]"
      ]
     },
     "execution_count": 1514,
     "metadata": {},
     "output_type": "execute_result"
    }
   ],
   "source": [
    "print(\"Anti, Pro, Neutral:\")\n",
    "G2_component_norm_proportion = get_component_norm_proportion(G1_comm1_T2)\n",
    "G2_component_norm_proportion"
   ]
  },
  {
   "cell_type": "code",
   "execution_count": 1515,
   "id": "b470fc72",
   "metadata": {},
   "outputs": [],
   "source": [
    "G2_component_norm_proportion = np.array(G2_component_norm_proportion, ndmin = 2)\n",
    "G2_anti_percentage_list = G2_component_norm_proportion[:,0]\n",
    "G2_pro_percentage_list = G2_component_norm_proportion[:,1]\n",
    "G2_neu_percentage_list = G2_component_norm_proportion[:,2]"
   ]
  },
  {
   "cell_type": "markdown",
   "id": "1d157ba0",
   "metadata": {},
   "source": [
    "Rank"
   ]
  },
  {
   "cell_type": "code",
   "execution_count": 1516,
   "id": "0f3dbbc0",
   "metadata": {},
   "outputs": [
    {
     "data": {
      "text/plain": [
       "array([[64.3,  0.1, 98.9],\n",
       "       [10.3, 44.2, 99.6],\n",
       "       [49.2, 46.8, 20.3],\n",
       "       [50. ,  0.1, 44.5],\n",
       "       [69. ,  0.1, 30.9],\n",
       "       [ 0.1, 50. , 70.7],\n",
       "       [ 0.1,  0.1, 14.8]])"
      ]
     },
     "execution_count": 1516,
     "metadata": {},
     "output_type": "execute_result"
    }
   ],
   "source": [
    "dcm_bt_array, rank = get_bowtie_components_rank2(G1_comm1_T2)\n",
    "rank"
   ]
  },
  {
   "cell_type": "code",
   "execution_count": 1517,
   "id": "78fbf232",
   "metadata": {},
   "outputs": [],
   "source": [
    "G2_anti_rank = rank[:,0]\n",
    "G2_pro_rank = rank[:,1]\n",
    "G2_neu_rank = rank[:,2]"
   ]
  },
  {
   "cell_type": "markdown",
   "id": "3ff7a7ea",
   "metadata": {},
   "source": [
    "##### Plot"
   ]
  },
  {
   "cell_type": "code",
   "execution_count": 1522,
   "id": "3f47d4a9",
   "metadata": {},
   "outputs": [
    {
     "data": {
      "image/png": "[encoded data removed]",
      "text/plain": [
       "<Figure size 1440x2160 with 6 Axes>"
      ]
     },
     "metadata": {
      "needs_background": "light"
     },
     "output_type": "display_data"
    }
   ],
   "source": [
    "fig = plt.figure(figsize = (20,30))\n",
    "#fig = plt.figure(figsize = (20,20), constrained_layout=True)\n",
    "#plt.suptitle(\"Discursive Community\", fontsize = '20')\n",
    "\n",
    "fig.add_subplot(3, 1, 1)\n",
    "\n",
    "# axis\n",
    "X = ['SCC','IN','OUT','TUBES', 'INTENDRILS', 'OUTTENDRILS', 'OTHER']\n",
    "X_axis = np.arange(len(X))\n",
    "plt.xticks(X_axis, X, fontsize = 15)\n",
    "plt.yticks(fontsize = 15)\n",
    "plt.xlabel(\"Bow-tie Components\", fontsize = 20)\n",
    "plt.ylabel(\"Proportion (%)\", fontsize = 20)\n",
    "plt.title(\"Anti-vaccination: \" + str(len(G1_comm1_anti_nodes)) + \" Nodes\", fontsize = 25)\n",
    "#plt.gca().yaxis.set_major_formatter(mtick.PercentFormatter(1))\n",
    "\n",
    "# colorbar\n",
    "norm = max(np.max(G1_anti_rank), np.max(G2_anti_rank))\n",
    "my_cmap = plt.cm.get_cmap('bwr')\n",
    "sm = ScalarMappable(cmap=my_cmap, norm=plt.Normalize(0,norm))\n",
    "sm.set_array([])\n",
    "           \n",
    "fill_color1 = G1_anti_rank; fill_color_normalized1 = G1_anti_rank/norm\n",
    "colors1 = my_cmap(fill_color_normalized1)\n",
    "\n",
    "fill_color2 = G2_anti_rank; fill_color_normalized2 = G2_anti_rank/norm\n",
    "colors2 = my_cmap(fill_color_normalized2)\n",
    "\n",
    "cbar = plt.colorbar(sm)\n",
    "cbar.ax.tick_params(labelsize=15)\n",
    "cbar.set_label('Rank (%)', rotation = -90, labelpad = 25, fontsize = 20)\n",
    "\n",
    "# bar\n",
    "bar_width = 0.4\n",
    "\n",
    "p = plt.bar(X_axis - bar_width/2 - 0.015, G1_anti_percentage_list, bar_width, label = 'Feb 2019', fill = False, edgecolor = \"#9E9E9E\", linewidth = 5)\n",
    "plt.bar(X_axis - bar_width/2 - 0.015, G1_anti_percentage_list, bar_width, color = colors1, edgecolor = \"#9E9E9E\", linewidth = 5)\n",
    "plt.bar_label(p, padding = 3, fontsize = 15)\n",
    "\n",
    "p = plt.bar(X_axis + bar_width/2 + 0.015, G2_anti_percentage_list, bar_width, label = 'Oct 2019', fill = False, edgecolor = \"k\", linewidth = 5)\n",
    "plt.bar(X_axis + bar_width/2 + 0.015, G2_anti_percentage_list, bar_width, color = colors2, edgecolor = \"k\", linewidth = 5)\n",
    "plt.bar_label(p, padding = 3, fontsize = 15)\n",
    "\n",
    "plt.legend(fontsize = 15, loc='upper center')\n",
    "#plt.box(False)\n",
    "\n",
    "\n",
    "\n",
    "fig.add_subplot(3, 1, 2)\n",
    "\n",
    "# axis\n",
    "X = ['SCC','IN','OUT','TUBES', 'INTENDRILS', 'OUTTENDRILS', 'OTHER']\n",
    "X_axis = np.arange(len(X))\n",
    "plt.xticks(X_axis, X, fontsize = 15)\n",
    "plt.yticks(fontsize = 15)\n",
    "plt.xlabel(\"Bow-tie Components\", fontsize = 20)\n",
    "plt.ylabel(\"Proportion (%)\", fontsize = 20)\n",
    "plt.title(\"Pro-vaccination: \" + str(len(G1_comm1_pro_nodes)) + \" Nodes\", fontsize = 25)\n",
    "#plt.gca().yaxis.set_major_formatter(mtick.PercentFormatter(1))\n",
    "\n",
    "# colorbar\n",
    "norm = max(np.max(G1_pro_rank), np.max(G2_pro_rank))\n",
    "my_cmap = plt.cm.get_cmap('bwr')\n",
    "sm = ScalarMappable(cmap=my_cmap, norm=plt.Normalize(0,norm))\n",
    "sm.set_array([])\n",
    "           \n",
    "fill_color1 = G1_pro_rank; fill_color_normalized1 = G1_pro_rank/norm\n",
    "colors1 = my_cmap(fill_color_normalized1)\n",
    "\n",
    "fill_color2 = G2_pro_rank; fill_color_normalized2 = G2_pro_rank/norm\n",
    "colors2 = my_cmap(fill_color_normalized2)\n",
    "\n",
    "cbar = plt.colorbar(sm)\n",
    "cbar.ax.tick_params(labelsize=15)\n",
    "cbar.set_label('Rank (%)', rotation = -90, labelpad = 25, fontsize = 20)\n",
    "\n",
    "\n",
    "\n",
    "# bar\n",
    "bar_width = 0.4\n",
    "\n",
    "p = plt.bar(X_axis - bar_width/2 - 0.015, G1_pro_percentage_list, bar_width, label = 'Feb 2019', fill = False, edgecolor = \"#9E9E9E\", linewidth = 5)\n",
    "plt.bar(X_axis - bar_width/2 - 0.015, G1_pro_percentage_list, bar_width, color = colors1, edgecolor = \"#9E9E9E\", linewidth = 5)\n",
    "plt.bar_label(p, padding = 3, fontsize = 15)\n",
    "\n",
    "p = plt.bar(X_axis + bar_width/2 + 0.015, G2_pro_percentage_list, bar_width, label = 'Oct 2019', fill = False, edgecolor = \"k\", linewidth = 5)\n",
    "plt.bar(X_axis + bar_width/2 + 0.015, G2_pro_percentage_list, bar_width, color = colors2, edgecolor = \"k\", linewidth = 5)\n",
    "plt.bar_label(p, padding = 3, fontsize = 15)\n",
    "\n",
    "plt.legend(fontsize = 15, loc='upper center')\n",
    "#plt.box(False)\n",
    "\n",
    "\n",
    "fig.add_subplot(3, 1, 3)\n",
    "\n",
    "# axis\n",
    "X = ['SCC','IN','OUT','TUBES', 'INTENDRILS', 'OUTTENDRILS', 'OTHER']\n",
    "X_axis = np.arange(len(X))\n",
    "plt.xticks(X_axis, X, fontsize = 15)\n",
    "plt.yticks(fontsize = 15)\n",
    "plt.xlabel(\"Bow-tie Components\", fontsize = 20)\n",
    "plt.ylabel(\"Proportion (%)\", fontsize = 20)\n",
    "plt.title(\"Neutral: \" + str(len(G1_comm1_neu_nodes)) + \" Nodes\", fontsize = 25)\n",
    "#plt.gca().yaxis.set_major_formatter(mtick.PercentFormatter(1))\n",
    "\n",
    "# colorbar\n",
    "norm = max(np.max(G1_neu_rank), np.max(G2_neu_rank))\n",
    "my_cmap = plt.cm.get_cmap('bwr')\n",
    "sm = ScalarMappable(cmap=my_cmap, norm=plt.Normalize(0,norm))\n",
    "sm.set_array([])\n",
    "           \n",
    "fill_color1 = G1_neu_rank; fill_color_normalized1 = G1_neu_rank/norm\n",
    "colors1 = my_cmap(fill_color_normalized1)\n",
    "\n",
    "fill_color2 = G2_neu_rank; fill_color_normalized2 = G2_neu_rank/norm\n",
    "colors2 = my_cmap(fill_color_normalized2)\n",
    "\n",
    "cbar = plt.colorbar(sm)\n",
    "cbar.ax.tick_params(labelsize=15)\n",
    "cbar.set_label('Rank (%)', rotation = -90, labelpad = 25, fontsize = 20)\n",
    "\n",
    "\n",
    "\n",
    "# bar\n",
    "bar_width = 0.4\n",
    "\n",
    "p = plt.bar(X_axis - bar_width/2 - 0.015, G1_neu_percentage_list, bar_width, label = 'Feb 2019', fill = False, edgecolor = \"#9E9E9E\", linewidth = 5)\n",
    "plt.bar(X_axis - bar_width/2 - 0.015, G1_neu_percentage_list, bar_width, color = colors1, edgecolor = \"#9E9E9E\", linewidth = 5)\n",
    "plt.bar_label(p, padding = 3, fontsize = 15)\n",
    "\n",
    "p = plt.bar(X_axis + bar_width/2 + 0.015, G2_neu_percentage_list, bar_width, label = 'Oct 2019', fill = False, edgecolor = \"k\", linewidth = 5)\n",
    "plt.bar(X_axis + bar_width/2 + 0.015, G2_neu_percentage_list, bar_width, color = colors2, edgecolor = \"k\", linewidth = 5)\n",
    "plt.bar_label(p, padding = 3, fontsize = 15)\n",
    "\n",
    "plt.legend(fontsize = 15, loc='upper center')\n",
    "#plt.box(False)\n",
    "\n",
    "\n",
    "# show\n",
    "plt.show()\n",
    "fig.savefig('Graphs/Community.png', dpi=fig.dpi)"
   ]
  },
  {
   "cell_type": "markdown",
   "id": "88a32004",
   "metadata": {},
   "source": [
    "#### G1_comm2 (Not included in paper)"
   ]
  },
  {
   "cell_type": "code",
   "execution_count": 1265,
   "id": "08d515ac",
   "metadata": {},
   "outputs": [],
   "source": [
    "node_remove = list(set(node_df[\"selector\"].values) - set(G1_comm_result[1]))\n",
    "G1_comm2 = G1.copy(); G1_comm2.remove_nodes_from(node_remove)"
   ]
  },
  {
   "cell_type": "code",
   "execution_count": 1266,
   "id": "b327d83a",
   "metadata": {},
   "outputs": [
    {
     "data": {
      "text/plain": [
       "'DiGraph with 263 nodes and 1251 edges'"
      ]
     },
     "execution_count": 1266,
     "metadata": {},
     "output_type": "execute_result"
    }
   ],
   "source": [
    "nx.info(G1_comm2)"
   ]
  },
  {
   "cell_type": "code",
   "execution_count": 1267,
   "id": "7b1f7d63",
   "metadata": {},
   "outputs": [
    {
     "name": "stdout",
     "output_type": "stream",
     "text": [
      "Pecentage: S, IN, OUT, TUBES, INTENDRILS, OUTTENDRILS, OTHER =  [56.3  7.2 32.7  0.   0.   3.4  0.4]\n"
     ]
    }
   ],
   "source": [
    "S, IN, OUT, TUBES, INTENDRILS, OUTTENDRILS, OTHER = get_bowtie_components(G1_comm2)\n",
    "G1_comm2_percentage_list = get_bowtie_components_percentage(S, IN, OUT, TUBES, INTENDRILS, OUTTENDRILS, OTHER)\n",
    "print(\"Pecentage: S, IN, OUT, TUBES, INTENDRILS, OUTTENDRILS, OTHER = \", G1_comm2_percentage_list) \n",
    "#G1_comm2_rank = get_bowtie_components_rank(G1_comm2)\n",
    "#print(\"Rank: S, IN, OUT, TUBES, INTENDRILS, OUTTENDRILS, OTHER = \", G1_comm2_rank)"
   ]
  },
  {
   "cell_type": "markdown",
   "id": "3c3a831d",
   "metadata": {},
   "source": [
    "### Communities in G2 (Not included in paper)"
   ]
  },
  {
   "cell_type": "markdown",
   "id": "3b282f4a",
   "metadata": {},
   "source": [
    "#### Communities"
   ]
  },
  {
   "cell_type": "code",
   "execution_count": 682,
   "id": "285d707a",
   "metadata": {},
   "outputs": [
    {
     "name": "stdout",
     "output_type": "stream",
     "text": [
      "The number of community:  82\n"
     ]
    }
   ],
   "source": [
    "# Perform Algorithm\n",
    "coms = algorithms.infomap(G2); instance_variables = vars(coms)\n",
    "G2_comm_result = instance_variables['communities']\n",
    "print(\"The number of community: \", len(G2_comm_result))"
   ]
  },
  {
   "cell_type": "code",
   "execution_count": 683,
   "id": "674ddbe6",
   "metadata": {},
   "outputs": [
    {
     "name": "stdout",
     "output_type": "stream",
     "text": [
      "Largest ten community size:  [922, 243, 46, 19, 9, 5, 3, 2, 2, 2]\n"
     ]
    }
   ],
   "source": [
    "G2_large_ten_comm = [len(G2_comm_result[i]) for i in range(10)]\n",
    "print(\"Largest ten community size: \", G2_large_ten_comm)"
   ]
  },
  {
   "cell_type": "markdown",
   "id": "365dc931",
   "metadata": {},
   "source": [
    "- G2_comm1"
   ]
  },
  {
   "cell_type": "code",
   "execution_count": 684,
   "id": "13cc1ac1",
   "metadata": {},
   "outputs": [],
   "source": [
    "node_remove = list(set(node_df[\"selector\"].values) - set(G2_comm_result[0]))\n",
    "G2_comm1 = G2.copy(); G2_comm1.remove_nodes_from(node_remove)"
   ]
  },
  {
   "cell_type": "code",
   "execution_count": 685,
   "id": "23f03ae2",
   "metadata": {},
   "outputs": [
    {
     "data": {
      "text/plain": [
       "'DiGraph with 922 nodes and 5577 edges'"
      ]
     },
     "execution_count": 685,
     "metadata": {},
     "output_type": "execute_result"
    }
   ],
   "source": [
    "nx.info(G2_comm1)"
   ]
  },
  {
   "cell_type": "code",
   "execution_count": 687,
   "id": "d7f26b6e",
   "metadata": {},
   "outputs": [
    {
     "name": "stdout",
     "output_type": "stream",
     "text": [
      "Pecentage: S, IN, OUT, TUBES, INTENDRILS, OUTTENDRILS, OTHER =  [47.7  4.3 39.2  0.   1.5  5.   2.3]\n"
     ]
    }
   ],
   "source": [
    "S, IN, OUT, TUBES, INTENDRILS, OUTTENDRILS, OTHER = get_bowtie_components(G2_comm1)\n",
    "G2_comm1_percentage_list = get_bowtie_components_percentage(S, IN, OUT, TUBES, INTENDRILS, OUTTENDRILS, OTHER)\n",
    "print(\"Pecentage: S, IN, OUT, TUBES, INTENDRILS, OUTTENDRILS, OTHER = \", G2_comm1_percentage_list) \n",
    "#G2_comm1_rank = get_bowtie_components_rank(G2_comm1)\n",
    "#print(\"Rank: S, IN, OUT, TUBES, INTENDRILS, OUTTENDRILS, OTHER = \", G2_comm1_rank)"
   ]
  },
  {
   "cell_type": "markdown",
   "id": "62850f24",
   "metadata": {},
   "source": [
    "- G2_comm2"
   ]
  },
  {
   "cell_type": "code",
   "execution_count": 688,
   "id": "fd321017",
   "metadata": {},
   "outputs": [],
   "source": [
    "node_remove = list(set(node_df[\"selector\"].values) - set(G2_comm_result[1]))\n",
    "G2_comm2 = G1.copy(); G2_comm2.remove_nodes_from(node_remove)"
   ]
  },
  {
   "cell_type": "code",
   "execution_count": 689,
   "id": "c068ef4b",
   "metadata": {},
   "outputs": [
    {
     "data": {
      "text/plain": [
       "'DiGraph with 243 nodes and 1162 edges'"
      ]
     },
     "execution_count": 689,
     "metadata": {},
     "output_type": "execute_result"
    }
   ],
   "source": [
    "nx.info(G2_comm2)"
   ]
  },
  {
   "cell_type": "code",
   "execution_count": 690,
   "id": "d0488b47",
   "metadata": {},
   "outputs": [
    {
     "name": "stdout",
     "output_type": "stream",
     "text": [
      "Pecentage: S, IN, OUT, TUBES, INTENDRILS, OUTTENDRILS, OTHER =  [55.1 11.1 29.2  0.   2.1  1.6  0.8]\n"
     ]
    }
   ],
   "source": [
    "S, IN, OUT, TUBES, INTENDRILS, OUTTENDRILS, OTHER = get_bowtie_components(G2_comm2)\n",
    "G2_comm2_percentage_list = get_bowtie_components_percentage(S, IN, OUT, TUBES, INTENDRILS, OUTTENDRILS, OTHER)\n",
    "print(\"Pecentage: S, IN, OUT, TUBES, INTENDRILS, OUTTENDRILS, OTHER = \", G2_comm2_percentage_list) \n",
    "#G2_comm2_rank = get_bowtie_components_rank(G2_comm2)\n",
    "#print(\"Rank: S, IN, OUT, TUBES, INTENDRILS, OUTTENDRILS, OTHER = \", G2_comm2_rank)"
   ]
  }
 ],
 "metadata": {
  "hide_input": false,
  "kernelspec": {
   "display_name": "Python 3 (ipykernel)",
   "language": "python",
   "name": "python3"
  },
  "language_info": {
   "codemirror_mode": {
    "name": "ipython",
    "version": 3
   },
   "file_extension": ".py",
   "mimetype": "text/x-python",
   "name": "python",
   "nbconvert_exporter": "python",
   "pygments_lexer": "ipython3",
   "version": "3.8.12"
  },
  "toc": {
   "base_numbering": 1,
   "nav_menu": {},
   "number_sections": true,
   "sideBar": true,
   "skip_h1_title": false,
   "title_cell": "Table of Contents",
   "title_sidebar": "Contents",
   "toc_cell": false,
   "toc_position": {},
   "toc_section_display": true,
   "toc_window_display": false
  }
 },
 "nbformat": 4,
 "nbformat_minor": 5
}
